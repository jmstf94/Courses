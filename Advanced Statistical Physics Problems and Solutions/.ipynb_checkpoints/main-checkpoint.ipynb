{
 "cells": [
  {
   "cell_type": "code",
   "execution_count": 1,
   "id": "1c875b05",
   "metadata": {},
   "outputs": [],
   "source": [
    "import numpy as np\n",
    "import matplotlib.pyplot as plt\n",
    "import random\n",
    "import math as m\n",
    "import seaborn as sns\n",
    "import pandas as pd\n",
    "from scipy.stats import powerlaw\n",
    "import time\n",
    "aem = 1740"
   ]
  },
  {
   "cell_type": "markdown",
   "id": "3a5f1e8c",
   "metadata": {},
   "source": [
    "# Problem 1-solved"
   ]
  },
  {
   "cell_type": "code",
   "execution_count": 3,
   "id": "ed5464f3",
   "metadata": {},
   "outputs": [
    {
     "data": {
      "image/png": "[encoded data removed]",
      "text/plain": [
       "<Figure size 432x288 with 1 Axes>"
      ]
     },
     "metadata": {
      "needs_background": "light"
     },
     "output_type": "display_data"
    }
   ],
   "source": [
    "#seed\n",
    "np.random.seed(aem)\n",
    "# numbers N \n",
    "x_axis = np.array([10**x for x in range(1,7)])\n",
    "# means_array \n",
    "y_axis = np.array([np.random.rand(10**x).mean() for x in range(1,7)])\n",
    "plt.plot(x_axis,y_axis)\n",
    "plt.xscale('log')"
   ]
  },
  {
   "cell_type": "markdown",
   "id": "e159768f",
   "metadata": {},
   "source": [
    "# Problem 2-Solved"
   ]
  },
  {
   "cell_type": "code",
   "execution_count": 6,
   "id": "dd387ead",
   "metadata": {},
   "outputs": [
    {
     "name": "stdout",
     "output_type": "stream",
     "text": [
      "999.98844\n"
     ]
    }
   ],
   "source": [
    "########1D grid##########\n",
    "#We assume it starts from position 0 every time.\\n\",\n",
    "# Thus for the calculation of square distance each time I just square the position (finalpos-0)^2\\n\",\n",
    "mean_sd = 0\n",
    "exps = 100000\n",
    "t=1000\n",
    "step_length = 1\n",
    "for i in range(exps):\n",
    "    position = 0\n",
    "    for j in range(t):\n",
    "        move = random.choice(['left','right'])\n",
    "        if move=='left':\n",
    "            position-=step_length\n",
    "        elif move=='right':\n",
    "            position+=step_length\n",
    "    squared_displacement = position**2\n",
    "    mean_sd+=squared_displacement\n",
    "print(mean_sd/exps)"
   ]
  },
  {
   "cell_type": "code",
   "execution_count": 8,
   "id": "74df9fa9",
   "metadata": {},
   "outputs": [
    {
     "name": "stdout",
     "output_type": "stream",
     "text": [
      "1002.11644\n"
     ]
    }
   ],
   "source": [
    "########2D grid##########\n",
    "#We assume it starts from position (0,0) every time\n",
    "#Thus for the calculation of square distance each time I just find the length of vector (x,y) an square it. i.e. x^2+y^2\n",
    "mean_sd = 0\n",
    "exps = 100000\n",
    "t=1000\n",
    "for i in range(exps):\n",
    "    position = [0,0]\n",
    "    for j in range(t):\n",
    "        move = random.choice(['left','right','up','down'])\n",
    "        if move=='left':\n",
    "            position[0]-=1\n",
    "        elif move=='right':\n",
    "            position[0]+=1\n",
    "        elif move=='up':\n",
    "            position[1]+=1\n",
    "        elif move=='down':\n",
    "            position[1]-=1\n",
    "    squared_displacement = position[0]**2+position[1]**2\n",
    "    mean_sd+=squared_displacement\n",
    "print(mean_sd/exps)"
   ]
  },
  {
   "cell_type": "code",
   "execution_count": 9,
   "id": "b1923fcd",
   "metadata": {},
   "outputs": [
    {
     "name": "stdout",
     "output_type": "stream",
     "text": [
      "1005.1647595580122\n"
     ]
    }
   ],
   "source": [
    "########2D-continuum##########\n",
    "#We assume it starts from position (0,0) every time.\\n\",\n",
    "#Thus for the calculation of square distance each time I just find the length of vector (x,y) an square it. i.e. x^2+y^2\n",
    "mean_sd = 0\n",
    "exps = 100000\n",
    "t=1000\n",
    "for i in range(exps):\n",
    "    position = [0,0]\n",
    "    for j in range(t):\n",
    "        angle = (random.randint(0,359)/180)*m.pi\n",
    "        position[0]+=round(m.cos(angle),2)\n",
    "        position[1]+=round(m.sin(angle),2)\n",
    "    squared_displacement = position[0]**2+position[1]**2\n",
    "    mean_sd+=squared_displacement\n",
    "print(mean_sd/exps)"
   ]
  },
  {
   "cell_type": "markdown",
   "id": "31a70ed9",
   "metadata": {},
   "source": [
    "# extra problem-solved"
   ]
  },
  {
   "cell_type": "code",
   "execution_count": 10,
   "id": "d64f2d8f",
   "metadata": {},
   "outputs": [
    {
     "name": "stdout",
     "output_type": "stream",
     "text": [
      "[101.2907041700001, 199.79857071999913, 297.8392375200017, 399.5614360099998, 504.5480248699999, 602.5193939499975, 702.4344463299973, 803.8808653399961, 904.3229321300012, 1001.3281997799991]\n"
     ]
    }
   ],
   "source": [
    "mean_sd = 0\n",
    "exps = 10000\n",
    "t=1000\n",
    "averages = [0]*10\n",
    "for i in range(exps):\n",
    "    position = [0,0]\n",
    "    points = []\n",
    "    for j in range(1,t+1):\n",
    "        angle = (random.randint(0,359)/180)*m.pi\n",
    "        position[0]+=round(m.cos(angle),2)\n",
    "        position[1]+=round(m.sin(angle),2)\n",
    "        if j%100==0:\n",
    "            points.append(position[0]**2+position[1]**2)\n",
    "    for j in range(len(points)):\n",
    "        averages[j]+=points[j]/exps\n",
    "print(averages)"
   ]
  },
  {
   "cell_type": "code",
   "execution_count": 11,
   "id": "dd67465c",
   "metadata": {},
   "outputs": [
    {
     "data": {
      "image/png": "[encoded data removed]",
      "text/plain": [
       "<Figure size 432x288 with 1 Axes>"
      ]
     },
     "metadata": {
      "needs_background": "light"
     },
     "output_type": "display_data"
    }
   ],
   "source": [
    "t = np.arange(100,1001,100)\n",
    "A = np.vstack([t, np.ones(len(t))]).T\n",
    "m,c = np.linalg.lstsq(A, averages, rcond=None)[0]\n",
    "x = np.linspace(0,1000,100)\n",
    "y = m*x+c\n",
    "plt.plot(x, y, '-r', label='y=2x+1')\n",
    "plt.plot(t,averages,'s')\n",
    "plt.show()"
   ]
  },
  {
   "cell_type": "markdown",
   "id": "8c2a430f",
   "metadata": {},
   "source": [
    "# Problem 3- In Progress"
   ]
  },
  {
   "cell_type": "code",
   "execution_count": 14,
   "id": "a03a3f9a",
   "metadata": {},
   "outputs": [
    {
     "data": {
      "image/png": "[encoded data removed]",
      "text/plain": [
       "<Figure size 432x288 with 1 Axes>"
      ]
     },
     "metadata": {
      "needs_background": "light"
     },
     "output_type": "display_data"
    }
   ],
   "source": [
    "####histogram from uniform distribution######\n",
    "uniform_distribution = list(np.random.rand(10000))\n",
    "def formula(x):\n",
    "    y_min = 10\n",
    "    y_max = 10**6\n",
    "    gamma = 3\n",
    "    delta = 1-gamma\n",
    "    return ((y_max**delta-y_min**delta)*x+y_min**delta)**(1/delta)\n",
    "power_law_dist = [formula(x) for x in uniform_distribution]\n",
    "power_law_dist.sort(reverse=True)\n",
    "plt.plot(power_law_dist)\n",
    "plt.xlim(-100, 10000)\n",
    "plt.ylim(-100 ,1750)\n",
    "plt.show()"
   ]
  },
  {
   "cell_type": "code",
   "execution_count": 15,
   "id": "cab3b889",
   "metadata": {},
   "outputs": [
    {
     "data": {
      "image/png": "[encoded data removed]",
      "text/plain": [
       "<Figure size 432x288 with 1 Axes>"
      ]
     },
     "metadata": {
      "needs_background": "light"
     },
     "output_type": "display_data"
    }
   ],
   "source": [
    "#####actual power law######\n",
    "def power_func(y):\n",
    "    y_min = 10\n",
    "    y_max = 10**6\n",
    "    gamma = 3\n",
    "    delta = 1-gamma\n",
    "    C = delta*(1/(y_max**delta-y_min**delta))\n",
    "    return C*(y**(-gamma))\n",
    "t = np.arange(10,10**6,10.0)\n",
    "plt.plot(t,power_func(t))\n",
    "plt.xlim(-100, 10000)\n",
    "plt.ylim(-100 ,1750)\n",
    "plt.show()"
   ]
  },
  {
   "cell_type": "markdown",
   "id": "3a9f5d54",
   "metadata": {},
   "source": [
    "# Problem 4-Solved"
   ]
  },
  {
   "cell_type": "code",
   "execution_count": 3,
   "id": "5961f4c3",
   "metadata": {},
   "outputs": [],
   "source": [
    "#we denote the connections with a symmetric matrix of 10000x10000 \n",
    "#with zeros in the diagonal elements\n",
    "#if element 12 or 21 of the matrix has 1 it means that nod 1 is connected\n",
    "#to nod 2\n",
    "def simulation(n_nodes, one_prob):\n",
    "    z = np.random.choice([0,1],p = [1-one_prob,one_prob], size = [n_nodes,n_nodes])\n",
    "    np.fill_diagonal(z,0)\n",
    "    z = np.tril(z)\n",
    "    z = z+z.T\n",
    "    n_edges = np.sum(z,axis=1)\n",
    "    return n_edges"
   ]
  },
  {
   "cell_type": "code",
   "execution_count": 4,
   "id": "258f9c61",
   "metadata": {},
   "outputs": [],
   "source": [
    "######experiment######\n",
    "exps = 1000\n",
    "n_nodes = 10000\n",
    "probability = 0.15\n",
    "means = [0]*n_nodes\n",
    "mean_k = 0\n",
    "for i in range(exps):\n",
    "    x = simulation(n_nodes,probability)\n",
    "    mean_k+=sum(x)/n_nodes/exps\n",
    "    for j in range(n_nodes):\n",
    "        means[j]+=x[j]/exps"
   ]
  },
  {
   "cell_type": "code",
   "execution_count": 6,
   "id": "cd923c06",
   "metadata": {},
   "outputs": [
    {
     "data": {
      "text/plain": [
       "<seaborn.axisgrid.FacetGrid at 0x1b5a1ee8c10>"
      ]
     },
     "execution_count": 6,
     "metadata": {},
     "output_type": "execute_result"
    },
    {
     "data": {
      "image/png": "[encoded data removed]",
      "text/plain": [
       "<Figure size 360x360 with 1 Axes>"
      ]
     },
     "metadata": {
      "needs_background": "light"
     },
     "output_type": "display_data"
    }
   ],
   "source": [
    "sns.displot(means, kind=\"kde\")"
   ]
  },
  {
   "cell_type": "code",
   "execution_count": 7,
   "id": "15ba26b6",
   "metadata": {},
   "outputs": [
    {
     "name": "stdout",
     "output_type": "stream",
     "text": [
      "1499.876890400001\n"
     ]
    }
   ],
   "source": [
    "print(mean_k)"
   ]
  },
  {
   "cell_type": "markdown",
   "id": "45a6a2de",
   "metadata": {},
   "source": [
    "# Problem 5-Solved"
   ]
  },
  {
   "cell_type": "code",
   "execution_count": 2,
   "id": "e88d3775",
   "metadata": {},
   "outputs": [],
   "source": [
    "########1-d case###########\n",
    "exps = 10000\n",
    "step_length = 1\n",
    "s_t = [0]*10\n",
    "for i in range(exps):\n",
    "    position = 0\n",
    "    min_pos = 0\n",
    "    max_pos = 0\n",
    "    for t in range(1,1001):\n",
    "        move = random.choice(['left','right'])\n",
    "        if move=='left':\n",
    "            position-=step_length\n",
    "        elif move=='right':\n",
    "            position+=step_length\n",
    "        if position<min_pos:\n",
    "            min_pos = position\n",
    "        elif position>max_pos:\n",
    "            max_pos = position\n",
    "        if t%100==0:\n",
    "            s_t[t//100-1]+= max_pos-min_pos+1\n",
    "mean_s = np.array([(x/exps) for x in s_t])\n",
    "t = np.arange(100,1001,100)"
   ]
  },
  {
   "cell_type": "code",
   "execution_count": 3,
   "id": "d844a205",
   "metadata": {},
   "outputs": [
    {
     "name": "stdout",
     "output_type": "stream",
     "text": [
      "[15.9652 22.5097 27.6719 31.9875 35.7872 39.2138 42.2848 45.1043 47.7682\n",
      " 50.3276]\n",
      "[ 100  200  300  400  500  600  700  800  900 1000]\n"
     ]
    }
   ],
   "source": [
    "print(mean_s)\n",
    "print(t)"
   ]
  },
  {
   "cell_type": "code",
   "execution_count": 4,
   "id": "25aab997",
   "metadata": {},
   "outputs": [
    {
     "data": {
      "text/plain": [
       "[<matplotlib.lines.Line2D at 0x2106ad89a30>]"
      ]
     },
     "execution_count": 4,
     "metadata": {},
     "output_type": "execute_result"
    },
    {
     "data": {
      "image/png": "[encoded data removed]",
      "text/plain": [
       "<Figure size 432x288 with 1 Axes>"
      ]
     },
     "metadata": {
      "needs_background": "light"
     },
     "output_type": "display_data"
    }
   ],
   "source": [
    "plt.plot(mean_s,t)\n",
    "plt.plot(mean_s,t,'s')"
   ]
  },
  {
   "cell_type": "code",
   "execution_count": 66,
   "id": "0ac0ef34",
   "metadata": {},
   "outputs": [],
   "source": [
    "########2-d case###########\\n\",\n",
    "exps = 10000\n",
    "step_length = 1\n",
    "s_t = [0]*10\n",
    "for i in range(exps):\n",
    "    position = [0,0]\n",
    "    all_positions = [[0,0]]\n",
    "    for t in range(1,1001):\n",
    "        move = random.choice(['left','right','up','down'])\n",
    "        if move=='left':\n",
    "            position[0]-=step_length\n",
    "        elif move=='right':\n",
    "            position[0]+=step_length\n",
    "        elif move=='up':\n",
    "            position[1]+=step_length\n",
    "        elif move=='down':\n",
    "            position[1]-=step_length\n",
    "        if position not in all_positions:\n",
    "            all_positions.append([position[0],position[1]])\n",
    "        if t%100==0:\n",
    "            s_t[t//100-1]+= len(all_positions)\n",
    "mean_s = np.array([(x/exps) for x in s_t])\n",
    "t = np.arange(100,1001,100)"
   ]
  },
  {
   "cell_type": "code",
   "execution_count": 67,
   "id": "20d18713",
   "metadata": {},
   "outputs": [
    {
     "name": "stdout",
     "output_type": "stream",
     "text": [
      "[ 49.4881  89.153  126.337  162.111  196.8941 230.9667 264.5092 297.5383\n",
      " 330.2329 362.7487]\n",
      "[ 100  200  300  400  500  600  700  800  900 1000]\n"
     ]
    }
   ],
   "source": [
    "print(mean_s)\n",
    "print(t)"
   ]
  },
  {
   "cell_type": "code",
   "execution_count": 68,
   "id": "605c63bc",
   "metadata": {},
   "outputs": [
    {
     "data": {
      "text/plain": [
       "[<matplotlib.lines.Line2D at 0x2106c0d2a30>]"
      ]
     },
     "execution_count": 68,
     "metadata": {},
     "output_type": "execute_result"
    },
    {
     "data": {
      "image/png": "[encoded data removed]",
      "text/plain": [
       "<Figure size 432x288 with 1 Axes>"
      ]
     },
     "metadata": {
      "needs_background": "light"
     },
     "output_type": "display_data"
    }
   ],
   "source": [
    "plt.plot(mean_s,t)\n",
    "plt.plot(mean_s,t,'s')"
   ]
  },
  {
   "cell_type": "markdown",
   "id": "eb5ce7d8",
   "metadata": {},
   "source": [
    "# Problem 6-In Progress"
   ]
  },
  {
   "cell_type": "code",
   "execution_count": 69,
   "id": "4a030585",
   "metadata": {},
   "outputs": [],
   "source": [
    "class grid_2D:\n",
    "    def __init__( self, x , y):\n",
    "        self.x = x\n",
    "        self.y = y\n",
    "        self.grid = np.zeros((x,y),dtype=int)\n",
    "    def add_molecule_traps(self, c):\n",
    "        \"\"\"\n",
    "        c is the concetration of molecules i.e. NumberOfMolecules/(250000)\n",
    "        \"\"\"\n",
    "        grid = self.grid\n",
    "        N = int((self.x*self.y)*c)\n",
    "        molecules = 0\n",
    "        while molecules<N:\n",
    "            x = random.randint(0,self.x-1)\n",
    "            y = random.randint(0,self.y-1)\n",
    "            if grid[x,y]==0:\n",
    "                grid[x,y]=1\n",
    "                molecules+=1\n",
    "    def add_particle(self):\n",
    "        while True:\n",
    "            x = random.randint(0,self.x-1)\n",
    "            y = random.randint(0,self.y-1)\n",
    "            if self.grid[x,y]==0:\n",
    "                self.particle_position = [x,y]\n",
    "                break\n",
    "    def random_walk(self):\n",
    "        \"\"\"\n",
    "        bc1: boundary condition that makes the particle to move like a cycle through the grid when\n",
    "        it hits the boundary for example in a square grid of 500x500 block if the particle has to go\n",
    "        from [499,0] to the right it goes to [0,0]. Same for up and down directions.\n",
    "        bc2: instead of the cyclical move now it returns back when it hits the boundary. i.e. from\n",
    "        [499,0] to the right it goes to [498,0] and so on\n",
    "        \"\"\"\n",
    "        def get_next_position(pos,rows,columns):\n",
    "            \"\"\" takes as an input the particle position list [x,y] and returns the list [x_new,y_new] which is picked\n",
    "            uniformly from the four possible directions [up,down,left,right]\n",
    "            with the bc1\n",
    "            \"\"\"\n",
    "            move = random.choice(['left','right','up','down'])\n",
    "            if move=='left':\n",
    "                return [pos[0],(pos[1]-1)%columns]\n",
    "            elif move=='right':\n",
    "                return [pos[0],(pos[1]+1)%columns]\n",
    "            elif move=='up':\n",
    "                return [(pos[0]-1)%rows, pos[1]]\n",
    "            elif move=='down':\n",
    "                return [(pos[0]+1)%rows, pos[1]]\n",
    "        initial_position = self.particle_position\n",
    "        position = initial_position\n",
    "        steps=0\n",
    "        unique_positions = [position]\n",
    "        while True:\n",
    "            next_position = get_next_position(position,self.x,self.y)\n",
    "            if self.grid[next_position[0],next_position[1]]==1:\n",
    "                steps+=1\n",
    "                break\n",
    "            else:\n",
    "                position = next_position\n",
    "                steps+=1\n",
    "            if next_position not in unique_positions:\n",
    "                unique_positions.append(next_position)\n",
    "        self.nunique_pos = len(unique_positions)\n",
    "        return steps\n",
    "    def show(self):\n",
    "        display(self.grid)"
   ]
  },
  {
   "cell_type": "code",
   "execution_count": 70,
   "id": "06e239bc",
   "metadata": {},
   "outputs": [
    {
     "name": "stdout",
     "output_type": "stream",
     "text": [
      "[0.3276800000000001, 0.1677721600000001, 0.10737418240000006, 0.3276800000000001, 0.8, 0.5120000000000001, 0.8, 0.6400000000000001, 0.13421772800000006, 0.1677721600000001]\n",
      "[5, 13, 20, 6, 1, 3, 1, 2, 16, 11]\n"
     ]
    }
   ],
   "source": [
    "##################test#################\n",
    "some_grid = grid_2D(5,5)\n",
    "some_grid.add_molecule_traps(0.2)\n",
    "tt = []\n",
    "unique_positions = []\n",
    "for i in range(10):\n",
    "    some_grid.add_particle()\n",
    "    tt.append(some_grid.random_walk())\n",
    "    unique_positions.append(some_grid.nunique_pos)\n",
    "new = [(1-0.2)**x for x in unique_positions]\n",
    "print(new)\n",
    "print(tt)"
   ]
  },
  {
   "cell_type": "code",
   "execution_count": 71,
   "id": "8daf6f71",
   "metadata": {},
   "outputs": [],
   "source": [
    "########create 500x500 grid######\n",
    "c = 10**(-2)\n",
    "grid1 = grid_2D(500,500)\n",
    "grid1.add_molecule_traps(c)"
   ]
  },
  {
   "cell_type": "code",
   "execution_count": 72,
   "id": "67e0c8a2",
   "metadata": {},
   "outputs": [],
   "source": [
    "trap_times1 = []\n",
    "for i in range(100000):\n",
    "    grid1.add_particle()\n",
    "    trap_times1.append(grid1.random_walk())"
   ]
  },
  {
   "cell_type": "code",
   "execution_count": 73,
   "id": "8a2018e7",
   "metadata": {},
   "outputs": [
    {
     "data": {
      "image/png": "[encoded data removed]",
      "text/plain": [
       "<Figure size 432x288 with 1 Axes>"
      ]
     },
     "metadata": {
      "needs_background": "light"
     },
     "output_type": "display_data"
    }
   ],
   "source": [
    "plt.hist(trap_times1, bins = 100)\n",
    "plt.show()"
   ]
  },
  {
   "cell_type": "code",
   "execution_count": 74,
   "id": "bbc2acd4",
   "metadata": {},
   "outputs": [
    {
     "data": {
      "text/plain": [
       "<seaborn.axisgrid.FacetGrid at 0x2106c31acd0>"
      ]
     },
     "execution_count": 74,
     "metadata": {},
     "output_type": "execute_result"
    },
    {
     "data": {
      "image/png": "[encoded data removed]",
      "text/plain": [
       "<Figure size 360x360 with 1 Axes>"
      ]
     },
     "metadata": {
      "needs_background": "light"
     },
     "output_type": "display_data"
    }
   ],
   "source": [
    "sns.displot(trap_times1, kind=\"kde\")"
   ]
  },
  {
   "cell_type": "code",
   "execution_count": 75,
   "id": "d93dc912",
   "metadata": {},
   "outputs": [],
   "source": [
    "########create 500x500 grid######\n",
    "c = 10**(-3)\n",
    "grid2 = grid_2D(500,500)\n",
    "grid2.add_molecule_traps(c)"
   ]
  },
  {
   "cell_type": "code",
   "execution_count": 76,
   "id": "931bab00",
   "metadata": {},
   "outputs": [],
   "source": [
    "trap_times2 = []\n",
    "for i in range(100000):\n",
    "    grid2.add_particle()\n",
    "    trap_times2.append(grid1.random_walk())"
   ]
  },
  {
   "cell_type": "code",
   "execution_count": 77,
   "id": "cc0e65b7",
   "metadata": {},
   "outputs": [
    {
     "data": {
      "image/png": "[encoded data removed]",
      "text/plain": [
       "<Figure size 432x288 with 1 Axes>"
      ]
     },
     "metadata": {
      "needs_background": "light"
     },
     "output_type": "display_data"
    }
   ],
   "source": [
    "plt.hist(trap_times2, bins = 100)\n",
    "plt.show()"
   ]
  },
  {
   "cell_type": "code",
   "execution_count": 79,
   "id": "7800577f",
   "metadata": {},
   "outputs": [
    {
     "data": {
      "text/plain": [
       "<seaborn.axisgrid.FacetGrid at 0x2106c12f9d0>"
      ]
     },
     "execution_count": 79,
     "metadata": {},
     "output_type": "execute_result"
    },
    {
     "data": {
      "image/png": "[encoded data removed]",
      "text/plain": [
       "<Figure size 360x360 with 1 Axes>"
      ]
     },
     "metadata": {
      "needs_background": "light"
     },
     "output_type": "display_data"
    }
   ],
   "source": [
    "sns.displot(trap_times2, kind=\"kde\")"
   ]
  },
  {
   "cell_type": "code",
   "execution_count": 81,
   "id": "c31a3fbf",
   "metadata": {},
   "outputs": [
    {
     "data": {
      "text/html": [
       "<div>\n",
       "<style scoped>\n",
       "    .dataframe tbody tr th:only-of-type {\n",
       "        vertical-align: middle;\n",
       "    }\n",
       "\n",
       "    .dataframe tbody tr th {\n",
       "        vertical-align: top;\n",
       "    }\n",
       "\n",
       "    .dataframe thead th {\n",
       "        text-align: right;\n",
       "    }\n",
       "</style>\n",
       "<table border=\"1\" class=\"dataframe\">\n",
       "  <thead>\n",
       "    <tr style=\"text-align: right;\">\n",
       "      <th></th>\n",
       "      <th>c=10^(-2)</th>\n",
       "      <th>c=10^(-3)</th>\n",
       "    </tr>\n",
       "  </thead>\n",
       "  <tbody>\n",
       "    <tr>\n",
       "      <th>0</th>\n",
       "      <td>134</td>\n",
       "      <td>161</td>\n",
       "    </tr>\n",
       "    <tr>\n",
       "      <th>1</th>\n",
       "      <td>162</td>\n",
       "      <td>2</td>\n",
       "    </tr>\n",
       "    <tr>\n",
       "      <th>2</th>\n",
       "      <td>177</td>\n",
       "      <td>4</td>\n",
       "    </tr>\n",
       "    <tr>\n",
       "      <th>3</th>\n",
       "      <td>27</td>\n",
       "      <td>36</td>\n",
       "    </tr>\n",
       "    <tr>\n",
       "      <th>4</th>\n",
       "      <td>54</td>\n",
       "      <td>40</td>\n",
       "    </tr>\n",
       "    <tr>\n",
       "      <th>...</th>\n",
       "      <td>...</td>\n",
       "      <td>...</td>\n",
       "    </tr>\n",
       "    <tr>\n",
       "      <th>99995</th>\n",
       "      <td>23</td>\n",
       "      <td>126</td>\n",
       "    </tr>\n",
       "    <tr>\n",
       "      <th>99996</th>\n",
       "      <td>638</td>\n",
       "      <td>342</td>\n",
       "    </tr>\n",
       "    <tr>\n",
       "      <th>99997</th>\n",
       "      <td>152</td>\n",
       "      <td>55</td>\n",
       "    </tr>\n",
       "    <tr>\n",
       "      <th>99998</th>\n",
       "      <td>667</td>\n",
       "      <td>141</td>\n",
       "    </tr>\n",
       "    <tr>\n",
       "      <th>99999</th>\n",
       "      <td>76</td>\n",
       "      <td>119</td>\n",
       "    </tr>\n",
       "  </tbody>\n",
       "</table>\n",
       "<p>100000 rows × 2 columns</p>\n",
       "</div>"
      ],
      "text/plain": [
       "       c=10^(-2)  c=10^(-3)\n",
       "0            134        161\n",
       "1            162          2\n",
       "2            177          4\n",
       "3             27         36\n",
       "4             54         40\n",
       "...          ...        ...\n",
       "99995         23        126\n",
       "99996        638        342\n",
       "99997        152         55\n",
       "99998        667        141\n",
       "99999         76        119\n",
       "\n",
       "[100000 rows x 2 columns]"
      ]
     },
     "execution_count": 81,
     "metadata": {},
     "output_type": "execute_result"
    }
   ],
   "source": [
    "timetrap_data = pd.DataFrame({\"c=10^(-2)\":trap_times1,\"c=10^(-3)\":trap_times2})\n",
    "timetrap_data"
   ]
  },
  {
   "cell_type": "code",
   "execution_count": 82,
   "id": "1774c65a",
   "metadata": {},
   "outputs": [
    {
     "data": {
      "text/plain": [
       "<seaborn.axisgrid.FacetGrid at 0x2106c2ff640>"
      ]
     },
     "execution_count": 82,
     "metadata": {},
     "output_type": "execute_result"
    },
    {
     "data": {
      "image/png": "[encoded data removed]",
      "text/plain": [
       "<Figure size 448.75x360 with 1 Axes>"
      ]
     },
     "metadata": {
      "needs_background": "light"
     },
     "output_type": "display_data"
    }
   ],
   "source": [
    "sns.displot(data=timetrap_data,kind = 'kde')"
   ]
  },
  {
   "cell_type": "code",
   "execution_count": null,
   "id": "13932270",
   "metadata": {},
   "outputs": [],
   "source": []
  }
 ],
 "metadata": {
  "kernelspec": {
   "display_name": "Python 3",
   "language": "python",
   "name": "python3"
  },
  "language_info": {
   "codemirror_mode": {
    "name": "ipython",
    "version": 3
   },
   "file_extension": ".py",
   "mimetype": "text/x-python",
   "name": "python",
   "nbconvert_exporter": "python",
   "pygments_lexer": "ipython3",
   "version": "3.8.8"
  }
 },
 "nbformat": 4,
 "nbformat_minor": 5
}
