{
 "cells": [
  {
   "cell_type": "code",
   "execution_count": 1,
   "id": "0715599f",
   "metadata": {},
   "outputs": [],
   "source": [
    "import numpy as np\n",
    "import matplotlib.pyplot as plt\n",
    "import random\n",
    "import seaborn as sns\n",
    "import pandas as pd"
   ]
  },
  {
   "cell_type": "markdown",
   "id": "bd9db945",
   "metadata": {},
   "source": [
    "# Second Problem"
   ]
  },
  {
   "cell_type": "code",
   "execution_count": 2,
   "id": "3619cacc",
   "metadata": {},
   "outputs": [
    {
     "name": "stdout",
     "output_type": "stream",
     "text": [
      "1001.65808\n"
     ]
    }
   ],
   "source": [
    "########1D grid##########\n",
    "# We assume it starts from position 0 every time.\n",
    "# Thus for the calculation of square distance each time I just square the position (finalpos-0)^2\n",
    "sd_sum = 0\n",
    "runs = 100000\n",
    "t=1000\n",
    "step = 1\n",
    "for i in range(runs):\n",
    "    position = 0\n",
    "    for j in range(t):\n",
    "        move = random.choice([-step,+step])\n",
    "        position = position + move\n",
    "    sd_sum+=position**2\n",
    "mean_sd = sd_sum/runs\n",
    "print(mean_sd)"
   ]
  },
  {
   "cell_type": "code",
   "execution_count": 3,
   "id": "045de66f",
   "metadata": {},
   "outputs": [
    {
     "name": "stdout",
     "output_type": "stream",
     "text": [
      "1005.09388\n"
     ]
    }
   ],
   "source": [
    "########2D grid##########\n",
    "#We assume it starts from position (0,0) every time\n",
    "#Thus for the calculation of square distance each time I just find the length of vector (x,y) an square it. i.e. x^2+y^2\n",
    "sd_sum = 0\n",
    "runs = 100000\n",
    "t=1000\n",
    "step = 1\n",
    "for i in range(runs):\n",
    "    position_x = 0\n",
    "    position_y = 0\n",
    "    for j in range(t):\n",
    "        move = random.choice([[-step,0],[step,0],[0,-step],[0,step]])\n",
    "        position_x = position_x+move[0]\n",
    "        position_y = position_y+move[1]\n",
    "    sd_sum+=position_x**2+position_y**2\n",
    "mean_sd = sd_sum/runs\n",
    "print(mean_sd)"
   ]
  },
  {
   "cell_type": "code",
   "execution_count": 6,
   "id": "f029d992",
   "metadata": {},
   "outputs": [
    {
     "ename": "KeyboardInterrupt",
     "evalue": "",
     "output_type": "error",
     "traceback": [
      "\u001b[1;31m---------------------------------------------------------------------------\u001b[0m",
      "\u001b[1;31mKeyboardInterrupt\u001b[0m                         Traceback (most recent call last)",
      "\u001b[1;32m<ipython-input-6-2ade13cd7c1e>\u001b[0m in \u001b[0;36m<module>\u001b[1;34m\u001b[0m\n\u001b[0;32m      8\u001b[0m     \u001b[1;32mfor\u001b[0m \u001b[0mj\u001b[0m \u001b[1;32min\u001b[0m \u001b[0mrange\u001b[0m\u001b[1;33m(\u001b[0m\u001b[1;36m1\u001b[0m\u001b[1;33m,\u001b[0m\u001b[0mt\u001b[0m\u001b[1;33m+\u001b[0m\u001b[1;36m1\u001b[0m\u001b[1;33m)\u001b[0m\u001b[1;33m:\u001b[0m\u001b[1;33m\u001b[0m\u001b[1;33m\u001b[0m\u001b[0m\n\u001b[0;32m      9\u001b[0m         \u001b[0mangle\u001b[0m \u001b[1;33m=\u001b[0m \u001b[1;33m(\u001b[0m\u001b[0mrandom\u001b[0m\u001b[1;33m.\u001b[0m\u001b[0mrandint\u001b[0m\u001b[1;33m(\u001b[0m\u001b[1;36m0\u001b[0m\u001b[1;33m,\u001b[0m\u001b[1;36m359\u001b[0m\u001b[1;33m)\u001b[0m\u001b[1;33m/\u001b[0m\u001b[1;36m180\u001b[0m\u001b[1;33m)\u001b[0m\u001b[1;33m*\u001b[0m\u001b[0mnp\u001b[0m\u001b[1;33m.\u001b[0m\u001b[0mpi\u001b[0m\u001b[1;33m\u001b[0m\u001b[1;33m\u001b[0m\u001b[0m\n\u001b[1;32m---> 10\u001b[1;33m         \u001b[0mposition\u001b[0m\u001b[1;33m[\u001b[0m\u001b[1;36m0\u001b[0m\u001b[1;33m]\u001b[0m\u001b[1;33m+=\u001b[0m\u001b[0mround\u001b[0m\u001b[1;33m(\u001b[0m\u001b[0mnp\u001b[0m\u001b[1;33m.\u001b[0m\u001b[0mcos\u001b[0m\u001b[1;33m(\u001b[0m\u001b[0mangle\u001b[0m\u001b[1;33m)\u001b[0m\u001b[1;33m,\u001b[0m\u001b[1;36m2\u001b[0m\u001b[1;33m)\u001b[0m\u001b[1;33m\u001b[0m\u001b[1;33m\u001b[0m\u001b[0m\n\u001b[0m\u001b[0;32m     11\u001b[0m         \u001b[0mposition\u001b[0m\u001b[1;33m[\u001b[0m\u001b[1;36m1\u001b[0m\u001b[1;33m]\u001b[0m\u001b[1;33m+=\u001b[0m\u001b[0mround\u001b[0m\u001b[1;33m(\u001b[0m\u001b[0mnp\u001b[0m\u001b[1;33m.\u001b[0m\u001b[0msin\u001b[0m\u001b[1;33m(\u001b[0m\u001b[0mangle\u001b[0m\u001b[1;33m)\u001b[0m\u001b[1;33m,\u001b[0m\u001b[1;36m2\u001b[0m\u001b[1;33m)\u001b[0m\u001b[1;33m\u001b[0m\u001b[1;33m\u001b[0m\u001b[0m\n\u001b[0;32m     12\u001b[0m         \u001b[1;32mif\u001b[0m \u001b[0mj\u001b[0m\u001b[1;33m%\u001b[0m\u001b[1;36m100\u001b[0m\u001b[1;33m==\u001b[0m\u001b[1;36m0\u001b[0m\u001b[1;33m:\u001b[0m\u001b[1;33m\u001b[0m\u001b[1;33m\u001b[0m\u001b[0m\n",
      "\u001b[1;31mKeyboardInterrupt\u001b[0m: "
     ]
    }
   ],
   "source": [
    "mean_sd = 0\n",
    "exps = 10000\n",
    "t=1000\n",
    "averages = [0]*10\n",
    "for i in range(exps):\n",
    "    position = [0,0]\n",
    "    points = []\n",
    "    for j in range(1,t+1):\n",
    "        angle = (random.randint(0,359)/180)*np.pi\n",
    "        position[0]+=round(np.cos(angle),2)\n",
    "        position[1]+=round(np.sin(angle),2)\n",
    "        if j%100==0:\n",
    "            points.append(position[0]**2+position[1]**2)\n",
    "    for j in range(len(points)):\n",
    "        averages[j]+=points[j]/exps\n",
    "print(averages)"
   ]
  },
  {
   "cell_type": "code",
   "execution_count": null,
   "id": "3bb16538",
   "metadata": {},
   "outputs": [],
   "source": [
    "t = np.arange(100,1001,100)\n",
    "A = np.vstack([t, np.ones(len(t))]).T\n",
    "m,c = np.linalg.lstsq(A, averages, rcond=None)[0]\n",
    "x = np.linspace(0,1000,100)\n",
    "y = m*x+c\n",
    "plt.plot(x, y, '-r', label='y=2x+1')\n",
    "plt.plot(t,averages,'s')\n",
    "plt.show()"
   ]
  }
 ],
 "metadata": {
  "kernelspec": {
   "display_name": "Python 3",
   "language": "python",
   "name": "python3"
  },
  "language_info": {
   "codemirror_mode": {
    "name": "ipython",
    "version": 3
   },
   "file_extension": ".py",
   "mimetype": "text/x-python",
   "name": "python",
   "nbconvert_exporter": "python",
   "pygments_lexer": "ipython3",
   "version": "3.8.8"
  }
 },
 "nbformat": 4,
 "nbformat_minor": 5
}
