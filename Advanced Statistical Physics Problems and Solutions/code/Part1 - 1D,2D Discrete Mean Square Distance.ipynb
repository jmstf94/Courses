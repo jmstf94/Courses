{
 "cells": [
  {
   "cell_type": "code",
   "execution_count": 2,
   "id": "ba5dea83",
   "metadata": {},
   "outputs": [],
   "source": [
    "import numpy as np\n",
    "import random\n",
    "import time"
   ]
  },
  {
   "cell_type": "code",
   "execution_count": 5,
   "id": "84cdc79a",
   "metadata": {},
   "outputs": [
    {
     "name": "stdout",
     "output_type": "stream",
     "text": [
      "The Mean Square Distance is 996.70888.\n",
      "Execution Time: 57.8692409992218 seconds.\n"
     ]
    }
   ],
   "source": [
    "start_time = time.time()\n",
    "\n",
    "########1D grid##########\n",
    "# We assume it starts from position 0 every time.\n",
    "# Thus for the calculation of square distance each time I just square the position (finalpos-0)^2\n",
    "\n",
    "sd_sum = 0\n",
    "runs = 100000\n",
    "t=1000\n",
    "step = 1\n",
    "for i in range(runs):\n",
    "    position = 0\n",
    "    for j in range(t):\n",
    "        move = random.choice([-step,+step])\n",
    "        position = position + move\n",
    "    sd_sum+=position**2\n",
    "mean_sd = sd_sum/runs\n",
    "\n",
    "print(f\"The Mean Square Distance is {mean_sd}.\")\n",
    "print(f\"Execution Time: {(time.time() - start_time)} seconds.\")"
   ]
  },
  {
   "cell_type": "code",
   "execution_count": 5,
   "id": "feb12a85",
   "metadata": {},
   "outputs": [
    {
     "name": "stdout",
     "output_type": "stream",
     "text": [
      "The Mean Square Distance is 1004.92084.\n",
      "Execution Time: 79.94378328323364 seconds.\n"
     ]
    }
   ],
   "source": [
    "start_time = time.time()\n",
    "\n",
    "########2D grid##########\n",
    "#We assume it starts from position (0,0) every time\n",
    "#Thus for the calculation of square distance each time I just find the \n",
    "#length of vector (x,y) an square it. i.e. x^2+y^2\n",
    "\n",
    "sd_sum = 0\n",
    "runs = 100000\n",
    "t=1000\n",
    "step = 1\n",
    "for i in range(runs):\n",
    "    position_x = 0\n",
    "    position_y = 0\n",
    "    for j in range(t):\n",
    "        move = random.choice([[-step,0],[step,0],[0,-step],[0,step]])\n",
    "        position_x = position_x+move[0]\n",
    "        position_y = position_y+move[1]\n",
    "    sd_sum+=position_x**2+position_y**2\n",
    "mean_sd = sd_sum/runs\n",
    "\n",
    "print(f\"The Mean Square Distance is {mean_sd}.\")\n",
    "print(f\"Execution Time: {(time.time() - start_time)} seconds.\")"
   ]
  },
  {
   "cell_type": "code",
   "execution_count": null,
   "id": "f3a0413a",
   "metadata": {},
   "outputs": [],
   "source": []
  }
 ],
 "metadata": {
  "kernelspec": {
   "display_name": "Python 3",
   "language": "python",
   "name": "python3"
  },
  "language_info": {
   "codemirror_mode": {
    "name": "ipython",
    "version": 3
   },
   "file_extension": ".py",
   "mimetype": "text/x-python",
   "name": "python",
   "nbconvert_exporter": "python",
   "pygments_lexer": "ipython3",
   "version": "3.8.8"
  }
 },
 "nbformat": 4,
 "nbformat_minor": 5
}
