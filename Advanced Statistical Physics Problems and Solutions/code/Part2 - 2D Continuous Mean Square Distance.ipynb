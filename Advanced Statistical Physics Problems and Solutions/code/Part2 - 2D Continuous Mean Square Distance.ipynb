{
 "cells": [
  {
   "cell_type": "code",
   "execution_count": 1,
   "id": "f64067d3",
   "metadata": {},
   "outputs": [],
   "source": [
    "import numpy as np\n",
    "import matplotlib.pyplot as plt\n",
    "import random\n",
    "from sklearn.linear_model import LinearRegression\n",
    "import time"
   ]
  },
  {
   "cell_type": "code",
   "execution_count": 2,
   "id": "287116bd",
   "metadata": {},
   "outputs": [
    {
     "name": "stdout",
     "output_type": "stream",
     "text": [
      "The Mean Square Distance is 1010.6369963619916.\n",
      "Execution Time: 944.0902030467987 seconds.\n"
     ]
    }
   ],
   "source": [
    "start_time = time.time()\n",
    "\n",
    "########2D-continuum##########\n",
    "#We assume it starts from position (0,0) every time and pick random angle for each step.\n",
    "#Thus for the calculation of square distance each time I just find the \n",
    "#length of vector (x,y) an square it. i.e. x^2+y^2\n",
    "\n",
    "sd_sum = 0\n",
    "runs = 100000\n",
    "t=1000\n",
    "step = 1\n",
    "for i in range(runs):\n",
    "    position_x = 0\n",
    "    position_y = 0\n",
    "    for j in range(t):\n",
    "        angle = (random.randint(0,359)/180)*np.pi\n",
    "        position_x+=round(step*np.cos(angle),2)\n",
    "        position_y+=round(step*np.sin(angle),2)\n",
    "    sd_sum+=position_x**2+position_y**2\n",
    "mean_sd = sd_sum/runs\n",
    "\n",
    "print(f\"The Mean Square Distance is {mean_sd}.\")\n",
    "print(f\"Execution Time: {(time.time() - start_time)} seconds.\")"
   ]
  },
  {
   "cell_type": "code",
   "execution_count": 3,
   "id": "a8547f97",
   "metadata": {},
   "outputs": [
    {
     "name": "stdout",
     "output_type": "stream",
     "text": [
      "The averages is [100.57654437000069, 201.1851447599993, 303.5389468100008, 401.79794846, 504.7531712000021, 608.1276485500018, 709.9648144599994, 810.3674806599992, 913.2772270299982, 1014.3148010699961].\n",
      "Execution Time: 89.60566568374634 seconds.\n"
     ]
    }
   ],
   "source": [
    "start_time = time.time()\n",
    "\n",
    "mean_sd = 0\n",
    "exps = 10000\n",
    "t=1000\n",
    "averages = [0]*10\n",
    "for i in range(exps):\n",
    "    position = [0,0]\n",
    "    points = []\n",
    "    for j in range(1,t+1):\n",
    "        angle = (random.randint(0,359)/180)*np.pi\n",
    "        position[0]+=round(np.cos(angle),2)\n",
    "        position[1]+=round(np.sin(angle),2)\n",
    "        if j%100==0:\n",
    "            points.append(position[0]**2+position[1]**2)\n",
    "    for j in range(len(points)):\n",
    "        averages[j]+=points[j]/exps\n",
    "\n",
    "print(f\"The averages is {averages}.\")\n",
    "print(f\"Execution Time: {(time.time() - start_time)} seconds.\")"
   ]
  },
  {
   "cell_type": "code",
   "execution_count": 4,
   "id": "7d3fd594",
   "metadata": {},
   "outputs": [
    {
     "name": "stdout",
     "output_type": "stream",
     "text": [
      "(1.016382220047875, -2.2198482893314804)\n"
     ]
    },
    {
     "data": {
      "image/png": "[encoded data removed]",
      "text/plain": [
       "<Figure size 432x288 with 1 Axes>"
      ]
     },
     "metadata": {
      "needs_background": "light"
     },
     "output_type": "display_data"
    }
   ],
   "source": [
    "t = np.arange(100,1001,100).reshape(-1,1)\n",
    "av = np.array(averages)\n",
    "reg = LinearRegression()\n",
    "model = reg.fit(t,av)\n",
    "c = model.intercept_\n",
    "m = model.coef_[0]\n",
    "print((m,c))\n",
    "y = m*t+c\n",
    "plt.plot(t, y, '-r')\n",
    "plt.plot(t,av,'s')\n",
    "plt.show()"
   ]
  },
  {
   "cell_type": "code",
   "execution_count": null,
   "id": "98f6b986",
   "metadata": {},
   "outputs": [],
   "source": []
  }
 ],
 "metadata": {
  "kernelspec": {
   "display_name": "Python 3",
   "language": "python",
   "name": "python3"
  },
  "language_info": {
   "codemirror_mode": {
    "name": "ipython",
    "version": 3
   },
   "file_extension": ".py",
   "mimetype": "text/x-python",
   "name": "python",
   "nbconvert_exporter": "python",
   "pygments_lexer": "ipython3",
   "version": "3.8.8"
  }
 },
 "nbformat": 4,
 "nbformat_minor": 5
}
