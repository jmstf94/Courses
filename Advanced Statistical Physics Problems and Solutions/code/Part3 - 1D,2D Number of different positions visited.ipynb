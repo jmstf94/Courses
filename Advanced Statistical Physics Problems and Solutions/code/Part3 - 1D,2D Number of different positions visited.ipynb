{
 "cells": [
  {
   "cell_type": "code",
   "execution_count": 1,
   "id": "cd69e54b",
   "metadata": {},
   "outputs": [],
   "source": [
    "import numpy as np\n",
    "import matplotlib.pyplot as plt\n",
    "import random\n",
    "import time"
   ]
  },
  {
   "cell_type": "code",
   "execution_count": 2,
   "id": "c7f4460e",
   "metadata": {},
   "outputs": [
    {
     "name": "stdout",
     "output_type": "stream",
     "text": [
      "Average Number of Distinct Sites per 100 steps:[16.0723 22.5662 27.658  31.9143 35.718  39.0125 42.083  44.9625 47.7451\n",
      " 50.3256]\n",
      "Execution Time: 7.349626302719116 seconds.\n"
     ]
    }
   ],
   "source": [
    "start_time = time.time()\n",
    "\n",
    "runs = 10000\n",
    "step = 1\n",
    "s_t = [0]*10\n",
    "t=1000\n",
    "for i in range(runs):\n",
    "    position = 0\n",
    "    min_pos = 0\n",
    "    max_pos = 0\n",
    "    for j in range(1,t+1):\n",
    "        move = random.choice([-step,+step])\n",
    "        position+= move\n",
    "        if position<min_pos:\n",
    "            min_pos = position\n",
    "        elif position>max_pos:\n",
    "            max_pos = position\n",
    "        if j%100==0:\n",
    "            s_t[j//100-1]+= max_pos-min_pos+1\n",
    "mean_s = np.array([(x/runs) for x in s_t])\n",
    "\n",
    "print(f\"Average Number of Distinct Sites per 100 steps:{mean_s}\")\n",
    "print(f\"Execution Time: {(time.time() - start_time)} seconds.\")"
   ]
  },
  {
   "cell_type": "code",
   "execution_count": 1,
   "id": "1c97ec98",
   "metadata": {},
   "outputs": [
    {
     "ename": "NameError",
     "evalue": "name 'np' is not defined",
     "output_type": "error",
     "traceback": [
      "\u001b[1;31m---------------------------------------------------------------------------\u001b[0m",
      "\u001b[1;31mNameError\u001b[0m                                 Traceback (most recent call last)",
      "\u001b[1;32m<ipython-input-1-bfb3cee77bc8>\u001b[0m in \u001b[0;36m<module>\u001b[1;34m\u001b[0m\n\u001b[1;32m----> 1\u001b[1;33m \u001b[0mt\u001b[0m \u001b[1;33m=\u001b[0m \u001b[0mnp\u001b[0m\u001b[1;33m.\u001b[0m\u001b[0marange\u001b[0m\u001b[1;33m(\u001b[0m\u001b[1;36m100\u001b[0m\u001b[1;33m,\u001b[0m\u001b[1;36m1001\u001b[0m\u001b[1;33m,\u001b[0m\u001b[1;36m100\u001b[0m\u001b[1;33m)\u001b[0m\u001b[1;33m\u001b[0m\u001b[1;33m\u001b[0m\u001b[0m\n\u001b[0m\u001b[0;32m      2\u001b[0m \u001b[0mplt\u001b[0m\u001b[1;33m.\u001b[0m\u001b[0mplot\u001b[0m\u001b[1;33m(\u001b[0m\u001b[0mt\u001b[0m\u001b[1;33m,\u001b[0m \u001b[0mmean_s\u001b[0m\u001b[1;33m,\u001b[0m \u001b[1;34m'.-'\u001b[0m\u001b[1;33m,\u001b[0m\u001b[0mcolor\u001b[0m \u001b[1;33m=\u001b[0m \u001b[1;34m'blue'\u001b[0m\u001b[1;33m,\u001b[0m \u001b[0mms\u001b[0m \u001b[1;33m=\u001b[0m \u001b[1;36m10\u001b[0m\u001b[1;33m)\u001b[0m\u001b[1;33m\u001b[0m\u001b[1;33m\u001b[0m\u001b[0m\n\u001b[0;32m      3\u001b[0m \u001b[0mplt\u001b[0m\u001b[1;33m.\u001b[0m\u001b[0mgrid\u001b[0m\u001b[1;33m(\u001b[0m\u001b[0mcolor\u001b[0m\u001b[1;33m=\u001b[0m\u001b[1;34m'0.25'\u001b[0m\u001b[1;33m,\u001b[0m \u001b[0mlinestyle\u001b[0m\u001b[1;33m=\u001b[0m\u001b[1;34m'--'\u001b[0m\u001b[1;33m,\u001b[0m \u001b[0mlinewidth\u001b[0m\u001b[1;33m=\u001b[0m\u001b[1;36m0.2\u001b[0m\u001b[1;33m)\u001b[0m\u001b[1;33m\u001b[0m\u001b[1;33m\u001b[0m\u001b[0m\n\u001b[0;32m      4\u001b[0m \u001b[0msns\u001b[0m\u001b[1;33m.\u001b[0m\u001b[0mylabel\u001b[0m\u001b[1;33m(\u001b[0m\u001b[1;34m'Number of Distinct Sites Visited'\u001b[0m\u001b[1;33m)\u001b[0m\u001b[1;33m\u001b[0m\u001b[1;33m\u001b[0m\u001b[0m\n\u001b[0;32m      5\u001b[0m \u001b[0msns\u001b[0m\u001b[1;33m.\u001b[0m\u001b[0mxlabel\u001b[0m\u001b[1;33m(\u001b[0m\u001b[1;34m'Number of Random Steps'\u001b[0m\u001b[1;33m)\u001b[0m\u001b[1;33m\u001b[0m\u001b[1;33m\u001b[0m\u001b[0m\n",
      "\u001b[1;31mNameError\u001b[0m: name 'np' is not defined"
     ]
    }
   ],
   "source": [
    "t = np.arange(100,1001,100)\n",
    "plt.plot(t, mean_s, '.-',color = 'blue', ms = 10)\n",
    "plt.grid(color='0.25', linestyle='--', linewidth=0.2)\n",
    "sns.ylabel('Number of Distinct Sites Visited')\n",
    "sns.xlabel('Number of Random Steps')\n",
    "plt.title('Discrete Random Walk - Number of Distinct Sites-1D')\n",
    "plt.savefig('../pdf/figures/DRW_NDS_1D.png')\n",
    "plt.show()"
   ]
  },
  {
   "cell_type": "code",
   "execution_count": 43,
   "id": "a5ce0528",
   "metadata": {},
   "outputs": [
    {
     "name": "stdout",
     "output_type": "stream",
     "text": [
      "Average Number of Distinct Sites per 100 steps:[ 49.4849  89.0422 126.3679 162.2419 197.2506 231.6082 265.2785 298.4961\n",
      " 331.2296 363.4049]\n",
      "Execution Time: 40.61035513877869 seconds.\n"
     ]
    }
   ],
   "source": [
    "start_time = time.time()\n",
    "\n",
    "runs = 10000\n",
    "step = 1\n",
    "s_t = [0]*10\n",
    "t = 1000\n",
    "for i in range(runs):\n",
    "    position_x = 0\n",
    "    position_y = 0 \n",
    "    all_positions = [[0,0]]\n",
    "    for j in range(1,t+1):\n",
    "        move = random.choice([[-step,0],[step,0],[0,-step],[0,step]])\n",
    "        position_x+= move[0]\n",
    "        position_y+= move[1]\n",
    "        position = [position_x,position_y]\n",
    "        if position not in all_positions:\n",
    "            all_positions.append(position)\n",
    "        if j%100==0:\n",
    "            s_t[j//100-1]+= len(all_positions)\n",
    "\n",
    "mean_s = np.array([(x/runs) for x in s_t])\n",
    "\n",
    "print(f\"Average Number of Distinct Sites per 100 steps:{mean_s}\")\n",
    "print(f\"Execution Time: {(time.time() - start_time)} seconds.\")"
   ]
  },
  {
   "cell_type": "code",
   "execution_count": 45,
   "id": "03cf5d36",
   "metadata": {},
   "outputs": [
    {
     "data": {
      "image/png": "[encoded data removed]",
      "text/plain": [
       "<Figure size 432x288 with 1 Axes>"
      ]
     },
     "metadata": {
      "needs_background": "light"
     },
     "output_type": "display_data"
    }
   ],
   "source": [
    "t = np.arange(100,1001,100)\n",
    "plt.plot(t, mean_s, '.-',color = 'blue', ms = 10)\n",
    "plt.grid(color='0.25', linestyle='--', linewidth=0.2)\n",
    "plt.ylabel('Number of Distinct Sites Visited')\n",
    "plt.xlabel('Number of Random Steps')\n",
    "plt.title('Discrete Random Walk - Number of Distinct Sites-2D')\n",
    "plt.savefig('../pdf/figures/DRW_NDS_2D.png')\n",
    "plt.show()"
   ]
  },
  {
   "cell_type": "code",
   "execution_count": null,
   "id": "f6b7079d",
   "metadata": {},
   "outputs": [],
   "source": []
  }
 ],
 "metadata": {
  "kernelspec": {
   "display_name": "Python 3",
   "language": "python",
   "name": "python3"
  },
  "language_info": {
   "codemirror_mode": {
    "name": "ipython",
    "version": 3
   },
   "file_extension": ".py",
   "mimetype": "text/x-python",
   "name": "python",
   "nbconvert_exporter": "python",
   "pygments_lexer": "ipython3",
   "version": "3.8.8"
  }
 },
 "nbformat": 4,
 "nbformat_minor": 5
}
