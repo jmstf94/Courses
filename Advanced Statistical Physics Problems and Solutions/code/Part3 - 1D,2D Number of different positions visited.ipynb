{
 "cells": [
  {
   "cell_type": "code",
   "execution_count": 1,
   "id": "cd69e54b",
   "metadata": {},
   "outputs": [],
   "source": [
    "import numpy as np\n",
    "import matplotlib.pyplot as plt\n",
    "import random\n",
    "import time"
   ]
  },
  {
   "cell_type": "code",
   "execution_count": 4,
   "id": "c7f4460e",
   "metadata": {},
   "outputs": [
    {
     "name": "stdout",
     "output_type": "stream",
     "text": [
      "Execution Time: 7.282596111297607 seconds.\n"
     ]
    }
   ],
   "source": [
    "start_time = time.time()\n",
    "\n",
    "########1-d case###########\n",
    "runs = 10000\n",
    "step = 1\n",
    "s_t = [0]*10\n",
    "for i in range(runs):\n",
    "    position = 0\n",
    "    min_pos = 0\n",
    "    max_pos = 0\n",
    "    for t in range(1,1001):\n",
    "        move = random.choice([-step,+step])\n",
    "        position = position + move\n",
    "        if position<min_pos:\n",
    "            min_pos = position\n",
    "        elif position>max_pos:\n",
    "            max_pos = position\n",
    "        if t%100==0:\n",
    "            s_t[t//100-1]+= max_pos-min_pos+1\n",
    "mean_s = np.array([(x/runs) for x in s_t])\n",
    "t = np.arange(100,1001,100)\n",
    "\n",
    "print(f\"Execution Time: {(time.time() - start_time)} seconds.\")\n",
    "\n",
    "# print(f\"The Mean Square Distance is {mean_s}.\")\n",
    "# print(f\"Execution Time: {(time.time() - start_time)} seconds.\")"
   ]
  },
  {
   "cell_type": "code",
   "execution_count": 3,
   "id": "1c97ec98",
   "metadata": {},
   "outputs": [
    {
     "data": {
      "text/plain": [
       "[<matplotlib.lines.Line2D at 0x1d63ab9a430>]"
      ]
     },
     "execution_count": 3,
     "metadata": {},
     "output_type": "execute_result"
    },
    {
     "data": {
      "image/png": "[encoded data removed]",
      "text/plain": [
       "<Figure size 432x288 with 1 Axes>"
      ]
     },
     "metadata": {
      "needs_background": "light"
     },
     "output_type": "display_data"
    }
   ],
   "source": [
    "plt.plot(mean_s,t)\n",
    "plt.plot(mean_s,t,'s')"
   ]
  },
  {
   "cell_type": "code",
   "execution_count": 6,
   "id": "a5ce0528",
   "metadata": {},
   "outputs": [
    {
     "name": "stdout",
     "output_type": "stream",
     "text": [
      "Execution Time: 71.09817504882812 seconds.\n"
     ]
    }
   ],
   "source": [
    "start_time = time.time()\n",
    "\n",
    "########2-d case###########\\n\",\n",
    "runs = 10000\n",
    "step = 1\n",
    "s_t = [0]*10\n",
    "for i in range(runs):\n",
    "    position_x = 0\n",
    "    position_y = 0 \n",
    "    all_positions = [[0,0]]\n",
    "    for t in range(1,1001):\n",
    "        move = random.choice([[-step,0],[step,0],[0,-step],[0,step]])\n",
    "        position_x = position_x+move[0]\n",
    "        position_y = position_y+move[1]\n",
    "        if position not in all_positions:\n",
    "            all_positions.append([position_x,position_y])\n",
    "        if t%100==0:\n",
    "            s_t[t//100-1]+= len(all_positions)\n",
    "mean_s = np.array([(x/runs) for x in s_t])\n",
    "t = np.arange(100,1001,100)\n",
    "\n",
    "print(f\"Execution Time: {(time.time() - start_time)} seconds.\")"
   ]
  },
  {
   "cell_type": "code",
   "execution_count": 7,
   "id": "03cf5d36",
   "metadata": {},
   "outputs": [
    {
     "data": {
      "text/plain": [
       "[<matplotlib.lines.Line2D at 0x1d63b3e1a30>]"
      ]
     },
     "execution_count": 7,
     "metadata": {},
     "output_type": "execute_result"
    },
    {
     "data": {
      "image/png": "[encoded data removed]",
      "text/plain": [
       "<Figure size 432x288 with 1 Axes>"
      ]
     },
     "metadata": {
      "needs_background": "light"
     },
     "output_type": "display_data"
    }
   ],
   "source": [
    "plt.plot(mean_s,t)\n",
    "plt.plot(mean_s,t,'s')"
   ]
  },
  {
   "cell_type": "code",
   "execution_count": null,
   "id": "f6b7079d",
   "metadata": {},
   "outputs": [],
   "source": []
  }
 ],
 "metadata": {
  "kernelspec": {
   "display_name": "Python 3",
   "language": "python",
   "name": "python3"
  },
  "language_info": {
   "codemirror_mode": {
    "name": "ipython",
    "version": 3
   },
   "file_extension": ".py",
   "mimetype": "text/x-python",
   "name": "python",
   "nbconvert_exporter": "python",
   "pygments_lexer": "ipython3",
   "version": "3.8.8"
  }
 },
 "nbformat": 4,
 "nbformat_minor": 5
}
