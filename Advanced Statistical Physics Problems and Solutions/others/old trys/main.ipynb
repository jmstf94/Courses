{
 "cells": [
  {
   "cell_type": "code",
   "execution_count": 1,
   "id": "0715599f",
   "metadata": {},
   "outputs": [],
   "source": [
    "import numpy as np\n",
    "import matplotlib.pyplot as plt\n",
    "import random\n",
    "import seaborn as sns\n",
    "import pandas as pd\n",
    "from sklearn.linear_model import LinearRegression\n",
    "import time"
   ]
  },
  {
   "cell_type": "markdown",
   "id": "05f74684",
   "metadata": {},
   "source": [
    "# Simulation of continuous random walk 2-D Mean square distance"
   ]
  },
  {
   "cell_type": "code",
   "execution_count": 12,
   "id": "4ac70446",
   "metadata": {},
   "outputs": [
    {
     "name": "stdout",
     "output_type": "stream",
     "text": [
      "1000.5949194079926\n"
     ]
    }
   ],
   "source": [
    "########2D-continuum##########\n",
    "#We assume it starts from position (0,0) every time.\n",
    "#Thus for the calculation of square distance each time I just find the length of vector (x,y) an square it. i.e. x^2+y^2\n",
    "sd_sum = 0\n",
    "runs = 100000\n",
    "t=1000\n",
    "step = 1\n",
    "for i in range(runs):\n",
    "    position_x = 0\n",
    "    position_y = 0\n",
    "    for j in range(t):\n",
    "        angle = (random.randint(0,359)/180)*np.pi\n",
    "        position_x+=round(step*np.cos(angle),2)\n",
    "        position_y+=round(step*np.sin(angle),2)\n",
    "    sd_sum+=position_x**2+position_y**2\n",
    "mean_sd = sd_sum/runs\n",
    "print(mean_sd)"
   ]
  },
  {
   "cell_type": "markdown",
   "id": "a33f5943",
   "metadata": {},
   "source": [
    "# per 100"
   ]
  },
  {
   "cell_type": "code",
   "execution_count": 4,
   "id": "f029d992",
   "metadata": {},
   "outputs": [
    {
     "name": "stdout",
     "output_type": "stream",
     "text": [
      "[98.70033647000001, 199.28465945, 303.7078415700005, 400.80032239000093, 501.4834444600004, 597.7935033500034, 699.1466481000009, 797.2512615500028, 895.0442822799992, 988.7652050900011]\n"
     ]
    }
   ],
   "source": [
    "mean_sd = 0\n",
    "exps = 10000\n",
    "t=1000\n",
    "averages = [0]*10\n",
    "for i in range(exps):\n",
    "    position = [0,0]\n",
    "    points = []\n",
    "    for j in range(1,t+1):\n",
    "        angle = (random.randint(0,359)/180)*np.pi\n",
    "        position[0]+=round(np.cos(angle),2)\n",
    "        position[1]+=round(np.sin(angle),2)\n",
    "        if j%100==0:\n",
    "            points.append(position[0]**2+position[1]**2)\n",
    "    for j in range(len(points)):\n",
    "        averages[j]+=points[j]/exps\n",
    "print(averages)"
   ]
  },
  {
   "cell_type": "code",
   "execution_count": 11,
   "id": "3bb16538",
   "metadata": {},
   "outputs": [
    {
     "name": "stdout",
     "output_type": "stream",
     "text": [
      "(0.990301049291516, 3.5321733606672296)\n"
     ]
    },
    {
     "data": {
      "image/png": "[encoded data removed]",
      "text/plain": [
       "<Figure size 432x288 with 1 Axes>"
      ]
     },
     "metadata": {
      "needs_background": "light"
     },
     "output_type": "display_data"
    }
   ],
   "source": [
    "t = np.arange(100,1001,100).reshape(-1,1)\n",
    "av = np.array(averages)\n",
    "reg = LinearRegression()\n",
    "model = reg.fit(t,av)\n",
    "c = model.intercept_\n",
    "m = model.coef_[0]\n",
    "print((m,c))\n",
    "y = m*t+c\n",
    "plt.plot(t, y, '-r')\n",
    "plt.plot(t,av,'s')\n",
    "plt.show()"
   ]
  },
  {
   "cell_type": "markdown",
   "id": "879e2d57",
   "metadata": {},
   "source": [
    "# Problem 5"
   ]
  },
  {
   "cell_type": "code",
   "execution_count": 13,
   "id": "193aaaba",
   "metadata": {},
   "outputs": [],
   "source": [
    "########1-d case###########\n",
    "runs = 10000\n",
    "step = 1\n",
    "s_t = [0]*10\n",
    "for i in range(runs):\n",
    "    position = 0\n",
    "    min_pos = 0\n",
    "    max_pos = 0\n",
    "    for t in range(1,1001):\n",
    "        move = random.choice([-step,+step])\n",
    "        position = position + move\n",
    "        if position<min_pos:\n",
    "            min_pos = position\n",
    "        elif position>max_pos:\n",
    "            max_pos = position\n",
    "        if t%100==0:\n",
    "            s_t[t//100-1]+= max_pos-min_pos+1\n",
    "mean_s = np.array([(x/runs) for x in s_t])\n",
    "t = np.arange(100,1001,100)"
   ]
  },
  {
   "cell_type": "code",
   "execution_count": 15,
   "id": "bf522f3f",
   "metadata": {},
   "outputs": [
    {
     "data": {
      "text/plain": [
       "[<matplotlib.lines.Line2D at 0x248eb075b20>]"
      ]
     },
     "execution_count": 15,
     "metadata": {},
     "output_type": "execute_result"
    },
    {
     "data": {
      "image/png": "[encoded data removed]",
      "text/plain": [
       "<Figure size 432x288 with 1 Axes>"
      ]
     },
     "metadata": {
      "needs_background": "light"
     },
     "output_type": "display_data"
    }
   ],
   "source": [
    "plt.plot(mean_s,t)\n",
    "plt.plot(mean_s,t,'s')"
   ]
  },
  {
   "cell_type": "code",
   "execution_count": 17,
   "id": "be1a7986",
   "metadata": {},
   "outputs": [],
   "source": [
    "########2-d case###########\\n\",\n",
    "runs = 10000\n",
    "step = 1\n",
    "s_t = [0]*10\n",
    "for i in range(exps):\n",
    "    position_x = 0\n",
    "    position_y = 0 \n",
    "    all_positions = [[0,0]]\n",
    "    for t in range(1,1001):\n",
    "        move = random.choice([[-step,0],[step,0],[0,-step],[0,step]])\n",
    "        position_x = position_x+move[0]\n",
    "        position_y = position_y+move[1]\n",
    "        if position not in all_positions:\n",
    "            all_positions.append([position_x,position_y])\n",
    "        if t%100==0:\n",
    "            s_t[t//100-1]+= len(all_positions)\n",
    "mean_s = np.array([(x/runs) for x in s_t])\n",
    "t = np.arange(100,1001,100)"
   ]
  },
  {
   "cell_type": "code",
   "execution_count": 18,
   "id": "29cbb221",
   "metadata": {},
   "outputs": [
    {
     "name": "stdout",
     "output_type": "stream",
     "text": [
      "[ 101.  201.  301.  401.  501.  601.  701.  801.  901. 1001.]\n",
      "[ 100  200  300  400  500  600  700  800  900 1000]\n"
     ]
    }
   ],
   "source": [
    "print(mean_s)\n",
    "print(t)"
   ]
  },
  {
   "cell_type": "code",
   "execution_count": 19,
   "id": "0b65ba3f",
   "metadata": {},
   "outputs": [
    {
     "data": {
      "text/plain": [
       "[<matplotlib.lines.Line2D at 0x248eb120b50>]"
      ]
     },
     "execution_count": 19,
     "metadata": {},
     "output_type": "execute_result"
    },
    {
     "data": {
      "image/png": "[encoded data removed]",
      "text/plain": [
       "<Figure size 432x288 with 1 Axes>"
      ]
     },
     "metadata": {
      "needs_background": "light"
     },
     "output_type": "display_data"
    }
   ],
   "source": [
    "plt.plot(mean_s,t)\n",
    "plt.plot(mean_s,t,'s')"
   ]
  },
  {
   "cell_type": "markdown",
   "id": "8d114866",
   "metadata": {},
   "source": [
    "# Problem 6"
   ]
  },
  {
   "cell_type": "code",
   "execution_count": 3,
   "id": "7eaa5572",
   "metadata": {},
   "outputs": [],
   "source": [
    "class grid_2D:\n",
    "    def __init__( self, x , y):\n",
    "        self.x = x\n",
    "        self.y = y\n",
    "        self.grid = np.zeros((x,y),dtype=int)\n",
    "    def add_molecule_traps(self, c):\n",
    "        \"\"\"\n",
    "        c is the concetration of molecules i.e. NumberOfMolecules/(250000)\n",
    "        \"\"\"\n",
    "        grid = self.grid\n",
    "        N = int((self.x*self.y)*c)\n",
    "        molecules = 0\n",
    "        while molecules<N:\n",
    "            x = random.randint(0,self.x-1)\n",
    "            y = random.randint(0,self.y-1)\n",
    "            if grid[x,y]==0:\n",
    "                grid[x,y]=1\n",
    "                molecules+=1\n",
    "    def add_particle(self):\n",
    "        while True:\n",
    "            x = random.randint(0,self.x-1)\n",
    "            y = random.randint(0,self.y-1)\n",
    "            if self.grid[x,y]==0:\n",
    "                self.particle_position = [x,y]\n",
    "                break\n",
    "    def random_walk(self):\n",
    "        \"\"\"\n",
    "        bc1: boundary condition that makes the particle to move like a cycle through the grid when\n",
    "        it hits the boundary for example in a square grid of 500x500 block if the particle has to go\n",
    "        from [499,0] to the right it goes to [0,0]. Same for up and down directions.\n",
    "        bc2: instead of the cyclical move now it returns back when it hits the boundary. i.e. from\n",
    "        [499,0] to the right it goes to [498,0] and so on\n",
    "        \"\"\"\n",
    "        def get_next_position(pos,rows,columns):\n",
    "            \"\"\" takes as an input the particle position list [x,y] and returns the list [x_new,y_new] which is picked\n",
    "            uniformly from the four possible directions [up,down,left,right]\n",
    "            with the bc1\n",
    "            \"\"\"\n",
    "            move = random.choice(['left','right','up','down'])\n",
    "            if move=='left':\n",
    "                return [pos[0],(pos[1]-1)%columns]\n",
    "            elif move=='right':\n",
    "                return [pos[0],(pos[1]+1)%columns]\n",
    "            elif move=='up':\n",
    "                return [(pos[0]-1)%rows, pos[1]]\n",
    "            elif move=='down':\n",
    "                return [(pos[0]+1)%rows, pos[1]]\n",
    "        initial_position = self.particle_position\n",
    "        position = initial_position\n",
    "        steps=0\n",
    "        unique_positions = [position]\n",
    "        while True:\n",
    "            next_position = get_next_position(position,self.x,self.y)\n",
    "            if self.grid[next_position[0],next_position[1]]==1:\n",
    "                steps+=1\n",
    "                break\n",
    "            else:\n",
    "                position = next_position\n",
    "                steps+=1\n",
    "            if next_position not in unique_positions:\n",
    "                unique_positions.append([next_position[0],next_position[1]])\n",
    "        self.nunique_pos = len(unique_positions)\n",
    "        return steps\n",
    "    def show(self):\n",
    "        display(self.grid)"
   ]
  },
  {
   "cell_type": "code",
   "execution_count": 4,
   "id": "afd3ac94",
   "metadata": {},
   "outputs": [],
   "source": [
    "########create 500x500 grid######\n",
    "c = 10**(-2)\n",
    "grid1 = grid_2D(500,500)\n",
    "grid1.add_molecule_traps(c)"
   ]
  },
  {
   "cell_type": "code",
   "execution_count": 5,
   "id": "c244b6f2",
   "metadata": {},
   "outputs": [],
   "source": [
    "trap_times1 = []\n",
    "unique_positions1 = []\n",
    "for i in range(100000):\n",
    "    grid1.add_particle()\n",
    "    trap_times1.append(grid1.random_walk())\n",
    "    unique_positions1.append(grid1.nunique_pos)"
   ]
  },
  {
   "cell_type": "code",
   "execution_count": 21,
   "id": "c6d16571",
   "metadata": {},
   "outputs": [],
   "source": [
    "##########save data##############\n",
    "data1_in = np.array(trap_times1,dtype=int)\n",
    "np.savetxt('data1.csv',(data1),delimiter = ',',fmt = '% 4d')\n",
    "data1_out = list(np.loadtxt('data1.csv',delimiter = ',',dtype=int))"
   ]
  },
  {
   "cell_type": "code",
   "execution_count": 5,
   "id": "6bd09400",
   "metadata": {},
   "outputs": [
    {
     "data": {
      "image/png": "[encoded data removed]",
      "text/plain": [
       "<Figure size 432x288 with 1 Axes>"
      ]
     },
     "metadata": {
      "needs_background": "light"
     },
     "output_type": "display_data"
    }
   ],
   "source": [
    "plt.hist(trap_times1, bins = 100)\n",
    "plt.show()"
   ]
  },
  {
   "cell_type": "code",
   "execution_count": 6,
   "id": "f8e691b2",
   "metadata": {},
   "outputs": [
    {
     "data": {
      "text/plain": [
       "<seaborn.axisgrid.FacetGrid at 0x1fc8bf2d580>"
      ]
     },
     "execution_count": 6,
     "metadata": {},
     "output_type": "execute_result"
    },
    {
     "data": {
      "image/png": "[encoded data removed]",
      "text/plain": [
       "<Figure size 360x360 with 1 Axes>"
      ]
     },
     "metadata": {
      "needs_background": "light"
     },
     "output_type": "display_data"
    }
   ],
   "source": [
    "sns.displot(trap_times1, kind=\"kde\")"
   ]
  },
  {
   "cell_type": "code",
   "execution_count": 7,
   "id": "50bb7ce0",
   "metadata": {},
   "outputs": [],
   "source": [
    "########create 500x500 grid######\n",
    "c = 10**(-3)\n",
    "grid2 = grid_2D(500,500)\n",
    "grid2.add_molecule_traps(c)"
   ]
  },
  {
   "cell_type": "code",
   "execution_count": 8,
   "id": "97285f21",
   "metadata": {},
   "outputs": [],
   "source": [
    "trap_times2 = []\n",
    "unique_positions2 = [] \n",
    "for i in range(100000):\n",
    "    grid2.add_particle()\n",
    "    trap_times2.append(grid2.random_walk())\n",
    "    unique_positions2.append(grid2.nunique_pos)"
   ]
  },
  {
   "cell_type": "code",
   "execution_count": 34,
   "id": "25f43241",
   "metadata": {},
   "outputs": [
    {
     "ename": "NameError",
     "evalue": "name 'trap_times2' is not defined",
     "output_type": "error",
     "traceback": [
      "\u001b[1;31m---------------------------------------------------------------------------\u001b[0m",
      "\u001b[1;31mNameError\u001b[0m                                 Traceback (most recent call last)",
      "\u001b[1;32m<ipython-input-34-da4dcad7b40a>\u001b[0m in \u001b[0;36m<module>\u001b[1;34m\u001b[0m\n\u001b[1;32m----> 1\u001b[1;33m \u001b[0mdata2\u001b[0m \u001b[1;33m=\u001b[0m \u001b[0mnp\u001b[0m\u001b[1;33m.\u001b[0m\u001b[0marray\u001b[0m\u001b[1;33m(\u001b[0m\u001b[0mtrap_times2\u001b[0m\u001b[1;33m,\u001b[0m\u001b[0mdtype\u001b[0m\u001b[1;33m=\u001b[0m\u001b[0mint\u001b[0m\u001b[1;33m)\u001b[0m\u001b[1;33m\u001b[0m\u001b[1;33m\u001b[0m\u001b[0m\n\u001b[0m\u001b[0;32m      2\u001b[0m \u001b[0mnp\u001b[0m\u001b[1;33m.\u001b[0m\u001b[0msavetxt\u001b[0m\u001b[1;33m(\u001b[0m\u001b[1;34m'data2.csv'\u001b[0m\u001b[1;33m,\u001b[0m\u001b[1;33m(\u001b[0m\u001b[0mdata2\u001b[0m\u001b[1;33m)\u001b[0m\u001b[1;33m,\u001b[0m\u001b[0mdelimiter\u001b[0m \u001b[1;33m=\u001b[0m \u001b[1;34m','\u001b[0m\u001b[1;33m,\u001b[0m\u001b[0mfmt\u001b[0m \u001b[1;33m=\u001b[0m \u001b[1;34m'% 4d'\u001b[0m\u001b[1;33m)\u001b[0m\u001b[1;33m\u001b[0m\u001b[1;33m\u001b[0m\u001b[0m\n",
      "\u001b[1;31mNameError\u001b[0m: name 'trap_times2' is not defined"
     ]
    }
   ],
   "source": [
    "data2 = np.array(trap_times2,dtype=int)\n",
    "np.savetxt('data2.csv',(data2),delimiter = ',',fmt = '% 4d')"
   ]
  },
  {
   "cell_type": "code",
   "execution_count": 13,
   "id": "23f9ca59",
   "metadata": {},
   "outputs": [
    {
     "data": {
      "image/png": "[encoded data removed]",
      "text/plain": [
       "<Figure size 432x288 with 1 Axes>"
      ]
     },
     "metadata": {
      "needs_background": "light"
     },
     "output_type": "display_data"
    }
   ],
   "source": [
    "plt.hist(trap_times2, bins = 100)\n",
    "plt.show()"
   ]
  },
  {
   "cell_type": "code",
   "execution_count": 14,
   "id": "12246fdf",
   "metadata": {},
   "outputs": [
    {
     "data": {
      "text/plain": [
       "<seaborn.axisgrid.FacetGrid at 0x1fc8c0842e0>"
      ]
     },
     "execution_count": 14,
     "metadata": {},
     "output_type": "execute_result"
    },
    {
     "data": {
      "image/png": "[encoded data removed]",
      "text/plain": [
       "<Figure size 360x360 with 1 Axes>"
      ]
     },
     "metadata": {
      "needs_background": "light"
     },
     "output_type": "display_data"
    }
   ],
   "source": [
    "sns.displot(trap_times2, kind=\"kde\")"
   ]
  },
  {
   "cell_type": "code",
   "execution_count": 2,
   "id": "cb68a1ae",
   "metadata": {},
   "outputs": [
    {
     "ename": "NameError",
     "evalue": "name 'trap_times1' is not defined",
     "output_type": "error",
     "traceback": [
      "\u001b[1;31m---------------------------------------------------------------------------\u001b[0m",
      "\u001b[1;31mNameError\u001b[0m                                 Traceback (most recent call last)",
      "\u001b[1;32m<ipython-input-2-afa2573b027f>\u001b[0m in \u001b[0;36m<module>\u001b[1;34m\u001b[0m\n\u001b[1;32m----> 1\u001b[1;33m \u001b[0mtimetrap_data\u001b[0m \u001b[1;33m=\u001b[0m \u001b[0mpd\u001b[0m\u001b[1;33m.\u001b[0m\u001b[0mDataFrame\u001b[0m\u001b[1;33m(\u001b[0m\u001b[1;33m{\u001b[0m\u001b[1;34m\"c=10^(-2)\"\u001b[0m\u001b[1;33m:\u001b[0m\u001b[0mtrap_times1\u001b[0m\u001b[1;33m,\u001b[0m\u001b[1;34m\"c=10^(-3)\"\u001b[0m\u001b[1;33m:\u001b[0m\u001b[0mtrap_times2\u001b[0m\u001b[1;33m}\u001b[0m\u001b[1;33m)\u001b[0m\u001b[1;33m\u001b[0m\u001b[1;33m\u001b[0m\u001b[0m\n\u001b[0m\u001b[0;32m      2\u001b[0m \u001b[0mtimetrap_data\u001b[0m\u001b[1;33m\u001b[0m\u001b[1;33m\u001b[0m\u001b[0m\n",
      "\u001b[1;31mNameError\u001b[0m: name 'trap_times1' is not defined"
     ]
    }
   ],
   "source": [
    "timetrap_data = pd.DataFrame({\"c=10^(-2)\":trap_times1,\"c=10^(-3)\":trap_times2})\n",
    "timetrap_data"
   ]
  },
  {
   "cell_type": "code",
   "execution_count": 16,
   "id": "9b327d85",
   "metadata": {},
   "outputs": [
    {
     "data": {
      "text/plain": [
       "<seaborn.axisgrid.FacetGrid at 0x1fc8e85e580>"
      ]
     },
     "execution_count": 16,
     "metadata": {},
     "output_type": "execute_result"
    },
    {
     "data": {
      "image/png": "[encoded data removed]",
      "text/plain": [
       "<Figure size 448.75x360 with 1 Axes>"
      ]
     },
     "metadata": {
      "needs_background": "light"
     },
     "output_type": "display_data"
    }
   ],
   "source": [
    "sns.displot(data=timetrap_data,kind = 'kde')"
   ]
  },
  {
   "cell_type": "code",
   "execution_count": null,
   "id": "ce9ce198",
   "metadata": {},
   "outputs": [],
   "source": [
    " "
   ]
  }
 ],
 "metadata": {
  "kernelspec": {
   "display_name": "Python 3",
   "language": "python",
   "name": "python3"
  },
  "language_info": {
   "codemirror_mode": {
    "name": "ipython",
    "version": 3
   },
   "file_extension": ".py",
   "mimetype": "text/x-python",
   "name": "python",
   "nbconvert_exporter": "python",
   "pygments_lexer": "ipython3",
   "version": "3.8.8"
  }
 },
 "nbformat": 4,
 "nbformat_minor": 5
}
