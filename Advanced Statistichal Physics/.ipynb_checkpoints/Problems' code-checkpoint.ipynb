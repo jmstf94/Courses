{
 "cells": [
  {
   "cell_type": "code",
   "execution_count": 43,
   "id": "2828a40a",
   "metadata": {},
   "outputs": [],
   "source": [
    "import numpy as np\n",
    "import matplotlib.pyplot as plt\n",
    "import random\n",
    "import math as m\n",
    "aem = 1740"
   ]
  },
  {
   "cell_type": "markdown",
   "id": "669a4788",
   "metadata": {},
   "source": [
    "# Problem 1"
   ]
  },
  {
   "cell_type": "code",
   "execution_count": 63,
   "id": "116a6927",
   "metadata": {},
   "outputs": [
    {
     "data": {
      "image/png": "[encoded data removed]",
      "text/plain": [
       "<Figure size 432x288 with 1 Axes>"
      ]
     },
     "metadata": {
      "needs_background": "light"
     },
     "output_type": "display_data"
    }
   ],
   "source": [
    "\n",
    "#seed\n",
    "np.random.seed(aem)\n",
    "\n",
    "# numbers N \n",
    "x_axis = np.array([10**x for x in range(1,7)])\n",
    "\n",
    "# means_array\n",
    "y_axis = np.array([np.random.rand(10**x).mean() for x in range(1,7)])\n",
    "\n",
    "plt.plot(x_axis,y_axis)\n",
    "plt.xscale('log')"
   ]
  },
  {
   "cell_type": "markdown",
   "id": "96741fd4",
   "metadata": {},
   "source": [
    "# Problem 2"
   ]
  },
  {
   "cell_type": "code",
   "execution_count": 22,
   "id": "5d6291d3",
   "metadata": {},
   "outputs": [
    {
     "name": "stdout",
     "output_type": "stream",
     "text": [
      "999.99788\n"
     ]
    }
   ],
   "source": [
    "########1D grid##########\n",
    "\"\"\"\n",
    "We assume it starts from position 0 every time.\n",
    "Thus for the calculation of square distance each time I just square the position (finalpos-0)^2\n",
    "\"\"\"\n",
    "mean_sd = 0\n",
    "exps = 100000\n",
    "t=1000\n",
    "step_length = 1\n",
    "for i in range(exps):\n",
    "    position = 0\n",
    "    for j in range(t):\n",
    "        move = random.choice(['left','right'])\n",
    "        if move=='left':\n",
    "            position-=step_length\n",
    "        elif move=='right':\n",
    "            position+=step_length\n",
    "    squared_displacement = position**2\n",
    "    mean_sd+=squared_displacement\n",
    "print(mean_sd/exps)"
   ]
  },
  {
   "cell_type": "code",
   "execution_count": 32,
   "id": "1149935f",
   "metadata": {},
   "outputs": [
    {
     "name": "stdout",
     "output_type": "stream",
     "text": [
      "1003.50284\n"
     ]
    }
   ],
   "source": [
    "########2D grid##########\n",
    "\"\"\"\n",
    "We assume it starts from position (0,0) every time.\n",
    "Thus for the calculation of square distance each time I just find the length of vector (x,y) an square it. i.e. x^2+y^2\n",
    "\"\"\"\n",
    "mean_sd = 0\n",
    "exps = 100000\n",
    "t=1000\n",
    "for i in range(exps):\n",
    "    position = [0,0]\n",
    "    for j in range(t):\n",
    "        move = random.choice(['left','right','up','down'])\n",
    "        if move=='left':\n",
    "            position[0]-=1\n",
    "        elif move=='right':\n",
    "            position[0]+=1\n",
    "        elif move=='up':\n",
    "            position[1]+=1\n",
    "        elif move=='down':\n",
    "            position[1]-=1\n",
    "    squared_displacement = position[0]**2+position[1]**2\n",
    "    mean_sd+=squared_displacement\n",
    "print(mean_sd/exps)"
   ]
  },
  {
   "cell_type": "code",
   "execution_count": 65,
   "id": "e5297519",
   "metadata": {},
   "outputs": [
    {
     "name": "stdout",
     "output_type": "stream",
     "text": [
      "1001.0255326810052\n"
     ]
    }
   ],
   "source": [
    "########2D-continuum##########\n",
    "\"\"\"\n",
    "We assume it starts from position (0,0) every time.\n",
    "Thus for the calculation of square distance each time I just find the length of vector (x,y) an square it. i.e. x^2+y^2\n",
    "\"\"\"\n",
    "mean_sd = 0\n",
    "exps = 100000\n",
    "t=1000\n",
    "for i in range(exps):\n",
    "    position = [0,0]\n",
    "    for j in range(t):\n",
    "        angle = (random.randint(0,359)/180)*m.pi\n",
    "        position[0]+=round(m.cos(angle),2)\n",
    "        position[1]+=round(m.sin(angle),2)\n",
    "    squared_displacement = position[0]**2+position[1]**2\n",
    "    mean_sd+=squared_displacement\n",
    "print(mean_sd/exps)"
   ]
  },
  {
   "cell_type": "markdown",
   "id": "2cd35bb4",
   "metadata": {},
   "source": [
    "# Problem 3"
   ]
  },
  {
   "cell_type": "code",
   "execution_count": 116,
   "id": "c18c3f33",
   "metadata": {},
   "outputs": [
    {
     "data": {
      "text/plain": [
       "[<matplotlib.lines.Line2D at 0x21340531df0>]"
      ]
     },
     "execution_count": 116,
     "metadata": {},
     "output_type": "execute_result"
    },
    {
     "data": {
      "image/png": "[encoded data removed]",
      "text/plain": [
       "<Figure size 432x288 with 1 Axes>"
      ]
     },
     "metadata": {
      "needs_background": "light"
     },
     "output_type": "display_data"
    }
   ],
   "source": [
    "#####histogram from uniform distribution######\n",
    "uniform_distribution = list(np.random.rand(10000))\n",
    "def formula(x):\n",
    "    y_min = 10\n",
    "    y_max = 10**6\n",
    "    gamma = 3\n",
    "    delta = 1-gamma\n",
    "    return ((y_max**delta-y_min**delta)*x+y_min**delta)**(1/delta)\n",
    "power_law_dist = [formula(x) for x in uniform_distribution]\n",
    "#####actual power law######\n",
    "def power_func(y):\n",
    "    y_min = 10\n",
    "    y_max = 10**6\n",
    "    gamma = 3\n",
    "    delta = 1-gamma\n",
    "    C = delta*(1/(y_max**delta-y_min**delta))\n",
    "    return C*(y**(-gamma))\n",
    "t = np.arange(0.0001,1,0.0001)\n",
    "plt.plot(t,power_func(t))\n",
    "plt.plot(power_law_dist)"
   ]
  },
  {
   "cell_type": "code",
   "execution_count": null,
   "id": "cb2be7e7",
   "metadata": {},
   "outputs": [],
   "source": []
  }
 ],
 "metadata": {
  "kernelspec": {
   "display_name": "Python 3",
   "language": "python",
   "name": "python3"
  },
  "language_info": {
   "codemirror_mode": {
    "name": "ipython",
    "version": 3
   },
   "file_extension": ".py",
   "mimetype": "text/x-python",
   "name": "python",
   "nbconvert_exporter": "python",
   "pygments_lexer": "ipython3",
   "version": "3.8.8"
  }
 },
 "nbformat": 4,
 "nbformat_minor": 5
}
