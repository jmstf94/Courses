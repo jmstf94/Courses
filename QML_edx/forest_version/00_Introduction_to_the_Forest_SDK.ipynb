{
 "cells": [
  {
   "cell_type": "markdown",
   "metadata": {},
   "source": [
    "<span style=\"color:red\"><b>Please note: you do not have to understand the content of this notebook yet. The rest of the course will walk you through the details. This introduction is here in case you are undecided which framework you would like to use and to serve as a reference material for operations that we will use frequently.</b></span>"
   ]
  },
  {
   "cell_type": "markdown",
   "metadata": {},
   "source": [
    "# Getting started\n",
    "\n",
    "The [Forest SDK](http://docs.rigetti.com/en/stable/) is a comprehensive suite of a language allowing you to define circuits, a simulator, a collection of quantum algorithms, among other important components. For setting it up on your computer, please refer to the Forest documentation. At the time of writing, the simulator and the compiler were not open source. Here we spell out the details of Forest that are critical for the rest of the notebooks.\n",
    "\n",
    "To run the Forest SDK locally, you must have the Quantum Virtual Machine and the Quil Compiler running as servers on your computer. It is better to run them from the terminal, but for convenience, we can launch them from this notebook if they are in the system path. We have to make sure that the ports we are using are available. We wrap this boilerplate code in a function that returns the process objects and a `ForestConnection` object containing the details of the ports."
   ]
  },
  {
   "cell_type": "code",
   "execution_count": null,
   "metadata": {
    "ExecuteTime": {
     "end_time": "2019-01-29T20:20:27.428131Z",
     "start_time": "2019-01-29T20:20:27.049199Z"
    }
   },
   "outputs": [],
   "source": [
    "import socket\n",
    "import subprocess\n",
    "from pyquil.api import ForestConnection\n",
    "\n",
    "def get_free_port():\n",
    "    sock = socket.socket()\n",
    "    sock.bind(('', 0))\n",
    "    port = sock.getsockname()[1]\n",
    "    sock.close()\n",
    "    return port\n",
    "\n",
    "def init_qvm_and_quilc(qvm_executable=\"qvm\", quilc_executable=\"quilc\"):\n",
    "    qvm_port = get_free_port()\n",
    "    quilc_port = get_free_port()\n",
    "    qvm_server = subprocess.Popen([qvm_executable, \"-S\", \"-p\", str(qvm_port)])\n",
    "    quilc_server = subprocess.Popen([quilc_executable, \"-R\", \"-p\", str(quilc_port)])\n",
    "    fc = ForestConnection(sync_endpoint='http://127.0.0.1:' + str(qvm_port), \n",
    "                          compiler_endpoint='tcp://127.0.0.1:' + str(quilc_port))\n",
    "    return qvm_server, quilc_server, fc"
   ]
  },
  {
   "cell_type": "markdown",
   "metadata": {},
   "source": [
    "We saved this boilerplate code in a file called `forest_tools.py`, so next time we can just import it. Next we launch the servers:"
   ]
  },
  {
   "cell_type": "code",
   "execution_count": null,
   "metadata": {
    "ExecuteTime": {
     "end_time": "2019-01-29T20:20:27.445537Z",
     "start_time": "2019-01-29T20:20:27.429359Z"
    }
   },
   "outputs": [],
   "source": [
    "qvm_server, quilc_server, fc = init_qvm_and_quilc()"
   ]
  },
  {
   "cell_type": "markdown",
   "metadata": {},
   "source": [
    "The tools related to defining quantum circuits, handling the compiler, the simulator, or the quantum processor are in a package called PyQuil. The simulator and the compiler are run as an external services. The most basic component is a Program, which describes the circuit."
   ]
  },
  {
   "cell_type": "code",
   "execution_count": null,
   "metadata": {
    "ExecuteTime": {
     "end_time": "2019-01-29T20:20:27.449682Z",
     "start_time": "2019-01-29T20:20:27.447456Z"
    }
   },
   "outputs": [],
   "source": [
    "from pyquil import Program"
   ]
  },
  {
   "cell_type": "markdown",
   "metadata": {},
   "source": [
    "This object allows us to define classical registers, which are also called readouts. Quantum registers are defined on the actual simulator or the quantum prdocessing unit, either of which is instantiated via the `get_qc` function:"
   ]
  },
  {
   "cell_type": "code",
   "execution_count": null,
   "metadata": {
    "ExecuteTime": {
     "end_time": "2019-01-29T20:20:27.456389Z",
     "start_time": "2019-01-29T20:20:27.450913Z"
    }
   },
   "outputs": [],
   "source": [
    "from pyquil import get_qc"
   ]
  },
  {
   "cell_type": "markdown",
   "metadata": {},
   "source": [
    "This simulator has multiple backends, allowing us to do simulations with slightly different purposes, as we will see later."
   ]
  },
  {
   "cell_type": "markdown",
   "metadata": {},
   "source": [
    "# Backends\n",
    "\n",
    "The most straightforward simulator backend -- called Quantum Virtual Machine (QVM) -- does exactly what we would expect: it runs a quantum algorithm and writes the measurement results to classical registers. After running a circuit a few times on the simulator, we can inspect the statistics of the results. We can define the number of qubits as part of instantiating the simulator. Here we instantiate a 1-qubit QVM:"
   ]
  },
  {
   "cell_type": "code",
   "execution_count": null,
   "metadata": {
    "ExecuteTime": {
     "end_time": "2019-01-29T20:20:27.464403Z",
     "start_time": "2019-01-29T20:20:27.458434Z"
    }
   },
   "outputs": [],
   "source": [
    "qc = get_qc('1q-qvm', connection=fc)"
   ]
  },
  {
   "cell_type": "markdown",
   "metadata": {},
   "source": [
    "Let us build the simplest possible circuit that has no gates and only a measurement on a single qubit, writing out the result to a single classical register. The classical register has to be added through the class method `declare` of the `Program` class."
   ]
  },
  {
   "cell_type": "code",
   "execution_count": null,
   "metadata": {
    "ExecuteTime": {
     "end_time": "2019-01-29T20:20:27.471371Z",
     "start_time": "2019-01-29T20:20:27.466203Z"
    }
   },
   "outputs": [],
   "source": [
    "from pyquil.gates import MEASURE\n",
    "circuit = Program()\n",
    "ro = circuit.declare('ro', 'BIT', 1)\n",
    "circuit += MEASURE(0, ro[0])"
   ]
  },
  {
   "cell_type": "markdown",
   "metadata": {},
   "source": [
    "We execute this circuit on the simulator. To define the number of repeated runs, we call the method `wrap_in_numshots_loop`, specifying the number of runs. Then we call the quantum compiler, which runs as an external service, and finally run it on the QVM, which is also an external service."
   ]
  },
  {
   "cell_type": "code",
   "execution_count": null,
   "metadata": {
    "ExecuteTime": {
     "end_time": "2019-01-29T20:20:28.166906Z",
     "start_time": "2019-01-29T20:20:27.473444Z"
    }
   },
   "outputs": [],
   "source": [
    "circuit.wrap_in_numshots_loop(100)\n",
    "executable = qc.compile(circuit)\n",
    "result = qc.run(executable)"
   ]
  },
  {
   "cell_type": "markdown",
   "metadata": {},
   "source": [
    "We can inspect the statistics of getting 0 and 1:"
   ]
  },
  {
   "cell_type": "code",
   "execution_count": null,
   "metadata": {
    "ExecuteTime": {
     "end_time": "2019-01-29T20:20:28.176554Z",
     "start_time": "2019-01-29T20:20:28.168653Z"
    }
   },
   "outputs": [],
   "source": [
    "(result == 0).sum(), (result == 1).sum()"
   ]
  },
  {
   "cell_type": "markdown",
   "metadata": {},
   "source": [
    "An easier, although somewhat less flexible way of achieving the same is by letting the simulator perform the measurements:"
   ]
  },
  {
   "cell_type": "code",
   "execution_count": null,
   "metadata": {
    "ExecuteTime": {
     "end_time": "2019-01-29T20:20:28.230441Z",
     "start_time": "2019-01-29T20:20:28.178364Z"
    }
   },
   "outputs": [],
   "source": [
    "from pyquil.gates import I\n",
    "circuit = Program()\n",
    "result = qc.run_and_measure(circuit, trials=100)\n",
    "result"
   ]
  },
  {
   "cell_type": "markdown",
   "metadata": {},
   "source": [
    "Remember that the qubit registers are always initialized as $|0\\rangle$. Not surprisingly, out of a hundred executions, we measure `0` a hundred times. If you executed this on the quantum processor, your measurement outcomes might be sometimes `1`  -- that would be due to noise.\n",
    "\n",
    "If this was the only simulator backend, we would have a hard time debugging our quantum algorithms. Why? We would have to reconstruct the quantum state based on the measurements we make, which is not a trivial task in general. True, this is the only option we have on the actual hardware, but in a simulator, we have one more possibility: we could actually inspect the simulated quantum state (the wavefunction). PyQuil provides a class for this."
   ]
  },
  {
   "cell_type": "code",
   "execution_count": null,
   "metadata": {
    "ExecuteTime": {
     "end_time": "2019-01-29T20:20:28.234326Z",
     "start_time": "2019-01-29T20:20:28.231725Z"
    }
   },
   "outputs": [],
   "source": [
    "from pyquil.api import WavefunctionSimulator\n",
    "wf_sim = WavefunctionSimulator(connection=fc)"
   ]
  },
  {
   "cell_type": "markdown",
   "metadata": {},
   "source": [
    "In this case, we do not have to add measurements, unless the protocol we are implementing uses a measurement in its internal operation. So we can build a circuit without a measurement and inspect the quantum state directly."
   ]
  },
  {
   "cell_type": "code",
   "execution_count": null,
   "metadata": {
    "ExecuteTime": {
     "end_time": "2019-01-29T20:20:28.251256Z",
     "start_time": "2019-01-29T20:20:28.236091Z"
    }
   },
   "outputs": [],
   "source": [
    "circuit = Program()\n",
    "wavefunction = wf_sim.wavefunction(circuit)\n",
    "print(wavefunction)"
   ]
  },
  {
   "cell_type": "markdown",
   "metadata": {},
   "source": [
    "So in this case, we see it is the $|0\\rangle$ state, as opposed to observing just the measurement statistics. This is especially important because the type of measurements we can perform are extremely restricted: technically speaking, we always measure in the computational basis. This means that, for instance, the states $|1\\rangle$ and $-|1\\rangle$ are indistinguishable based on the measurement statistics."
   ]
  },
  {
   "cell_type": "markdown",
   "metadata": {},
   "source": [
    "# Visualization"
   ]
  },
  {
   "cell_type": "markdown",
   "metadata": {},
   "source": [
    "The Forest SDK does not really offer integrated tools for plotting, but it is easy to create our own functions. All of them are included in `forest_tools.py`. The following function will plot a circuit:"
   ]
  },
  {
   "cell_type": "code",
   "execution_count": null,
   "metadata": {
    "ExecuteTime": {
     "end_time": "2019-01-29T20:20:28.372791Z",
     "start_time": "2019-01-29T20:20:28.253221Z"
    }
   },
   "outputs": [],
   "source": [
    "from pyquil import Program\n",
    "from pyquil.gates import H\n",
    "from pyquil.latex import to_latex\n",
    "import matplotlib.pyplot as plt\n",
    "import numpy as np\n",
    "import shutil\n",
    "import subprocess\n",
    "from tempfile import mkdtemp\n",
    "%matplotlib inline\n",
    "\n",
    "def plot_circuit(circuit):\n",
    "    latex_diagram = to_latex(circuit)\n",
    "    tmp_folder = mkdtemp()\n",
    "    with open(tmp_folder + '/circuit.tex', 'w') as f:\n",
    "        f.write(latex_diagram)\n",
    "    proc = subprocess.Popen(['pdflatex', '-shell-escape', tmp_folder + '/circuit.tex'], cwd=tmp_folder)\n",
    "    proc.communicate()\n",
    "    image = plt.imread(tmp_folder + '/circuit.png')\n",
    "    shutil.rmtree(tmp_folder)\n",
    "    plt.axis('off')\n",
    "    return plt.imshow(image)"
   ]
  },
  {
   "cell_type": "markdown",
   "metadata": {},
   "source": [
    "The function needs a working LaTeX installation and ImageMagick. Here's an example circuit and its diagram:"
   ]
  },
  {
   "cell_type": "code",
   "execution_count": null,
   "metadata": {
    "ExecuteTime": {
     "end_time": "2019-01-29T20:20:28.880936Z",
     "start_time": "2019-01-29T20:20:28.374438Z"
    }
   },
   "outputs": [],
   "source": [
    "circuit = Program()\n",
    "circuit += H(0)\n",
    "plot_circuit(circuit)"
   ]
  },
  {
   "cell_type": "markdown",
   "metadata": {},
   "source": [
    "This gives a quick sanity check to see whether we correctly implemented some circuit.\n",
    "\n",
    "The second helper function shows the operation on the Bloch sphere, which is especially important for understanding how rotations happen. We borrowed this function from [this tutorial](https://github.com/markf94/rigetti_training_material) and it requires QuTiP. This visualization method relies on the wavefunction simulator."
   ]
  },
  {
   "cell_type": "code",
   "execution_count": null,
   "metadata": {
    "ExecuteTime": {
     "end_time": "2019-01-29T20:20:29.295110Z",
     "start_time": "2019-01-29T20:20:28.882488Z"
    }
   },
   "outputs": [],
   "source": [
    "import cmath\n",
    "from qutip import Bloch\n",
    "\n",
    "def get_vector(alpha, beta):\n",
    "    \"\"\"\n",
    "    Function to compute 3D Cartesian coordinates\n",
    "    from 2D qubit vector.\n",
    "    \"\"\"\n",
    "\n",
    "    # get phases\n",
    "    angle_alpha = cmath.phase(alpha)\n",
    "    angle_beta = cmath.phase(beta)\n",
    "\n",
    "    # avoiding wrong normalization due to rounding errors\n",
    "    if cmath.isclose(angle_alpha, cmath.pi):\n",
    "        angle_alpha = 0\n",
    "    if cmath.isclose(angle_beta, cmath.pi):\n",
    "        angle_beta = 0\n",
    "        \n",
    "    if (angle_beta < 0 and angle_alpha < angle_beta) or (angle_beta > 0 and angle_alpha > angle_beta):\n",
    "            denominator = cmath.exp(1j*angle_beta)\n",
    "    else:\n",
    "            denominator = cmath.exp(1j*angle_alpha)\n",
    "\n",
    "    # eliminate global phase\n",
    "    alpha_new = alpha/denominator\n",
    "    beta_new = beta/denominator\n",
    "\n",
    "    # special case to avoid division by zero\n",
    "    if abs(alpha) == 0 or abs(beta) == 0:\n",
    "        if alpha == 0:\n",
    "            return [0,0,-1]\n",
    "        else:\n",
    "            return [0,0,1]\n",
    "    else:\n",
    "        # compute theta and phi from alpha and beta\n",
    "        theta = 2*cmath.acos(alpha_new)\n",
    "        phi = -1j*cmath.log(beta_new/cmath.sin(theta/2))\n",
    "\n",
    "        # compute the Cartesian coordinates\n",
    "        x = cmath.sin(theta)*cmath.cos(phi)\n",
    "        y = cmath.sin(theta)*cmath.sin(phi)\n",
    "        z = cmath.cos(theta)\n",
    "\n",
    "    return [x.real,y.real,z.real]\n",
    "\n",
    "def plot_quantum_state(amplitudes):\n",
    "    \"\"\"\n",
    "    Thin function to abstract the plotting on the Bloch sphere.\n",
    "    \"\"\"\n",
    "    bloch_sphere = Bloch()\n",
    "    vec = get_vector(amplitudes[0], amplitudes[1])\n",
    "    bloch_sphere.add_vectors(vec)\n",
    "    bloch_sphere.show()\n",
    "    bloch_sphere.clear()"
   ]
  },
  {
   "cell_type": "markdown",
   "metadata": {},
   "source": [
    " For instance, let's compare the initial state $|0\\rangle$ and the Hadamard gate applied to it:"
   ]
  },
  {
   "cell_type": "code",
   "execution_count": null,
   "metadata": {
    "ExecuteTime": {
     "end_time": "2019-01-29T20:20:29.769283Z",
     "start_time": "2019-01-29T20:20:29.296884Z"
    }
   },
   "outputs": [],
   "source": [
    "from pyquil.api import WavefunctionSimulator\n",
    "from pyquil.gates import I\n",
    "\n",
    "wf_sim = WavefunctionSimulator(connection=fc)\n",
    "circuit = Program()\n",
    "circuit += I(0)\n",
    "wavefunction = wf_sim.wavefunction(circuit)\n",
    "plot_quantum_state(wavefunction.amplitudes)"
   ]
  },
  {
   "cell_type": "markdown",
   "metadata": {},
   "source": [
    "After the Hadamard gate:"
   ]
  },
  {
   "cell_type": "code",
   "execution_count": null,
   "metadata": {
    "ExecuteTime": {
     "end_time": "2019-01-29T20:20:29.941876Z",
     "start_time": "2019-01-29T20:20:29.771092Z"
    }
   },
   "outputs": [],
   "source": [
    "circuit += H(0)\n",
    "wavefunction = wf_sim.wavefunction(circuit)\n",
    "plot_quantum_state(wavefunction.amplitudes)"
   ]
  },
  {
   "cell_type": "markdown",
   "metadata": {},
   "source": [
    "The third way of visualizing what happens is plotting the statistics of measurement results. Arguably, this is the most important for practical applications and debugging. We define a function for this:"
   ]
  },
  {
   "cell_type": "code",
   "execution_count": null,
   "metadata": {
    "ExecuteTime": {
     "end_time": "2019-01-29T20:20:29.951151Z",
     "start_time": "2019-01-29T20:20:29.943395Z"
    }
   },
   "outputs": [],
   "source": [
    "import itertools\n",
    "\n",
    "def plot_histogram(result):\n",
    "    if isinstance(result, dict):\n",
    "        outcomes = np.vstack(result.values()).T\n",
    "    else:\n",
    "        outcomes = result\n",
    "    trials, classical_bits = outcomes.shape\n",
    "    stats = {}\n",
    "    for bits in itertools.product('01', repeat=classical_bits):\n",
    "        stats[\"\".join(str(bit) for bit in bits)] = 0\n",
    "    for i in range(trials):\n",
    "        stats[\"\".join(str(bit) for bit in outcomes[i])] += 1\n",
    "    x = np.arange(len(stats))\n",
    "    plt.bar(x, stats.values())\n",
    "    plt.xticks(x, stats.keys())\n",
    "    plt.show()"
   ]
  },
  {
   "cell_type": "markdown",
   "metadata": {},
   "source": [
    "Here are the statistics before the Hadamard gate:"
   ]
  },
  {
   "cell_type": "code",
   "execution_count": null,
   "metadata": {
    "ExecuteTime": {
     "end_time": "2019-01-29T20:20:30.027243Z",
     "start_time": "2019-01-29T20:20:29.952650Z"
    }
   },
   "outputs": [],
   "source": [
    "circuit = Program()\n",
    "circuit += I(0)\n",
    "results = qc.run_and_measure(circuit, trials=1000)\n",
    "plot_histogram(results)"
   ]
  },
  {
   "cell_type": "markdown",
   "metadata": {},
   "source": [
    "After the Hadamard gate:"
   ]
  },
  {
   "cell_type": "code",
   "execution_count": null,
   "metadata": {
    "ExecuteTime": {
     "end_time": "2019-01-29T20:20:30.098232Z",
     "start_time": "2019-01-29T20:20:30.028723Z"
    }
   },
   "outputs": [],
   "source": [
    "circuit += H(0)\n",
    "results = qc.run_and_measure(circuit, trials=1000)\n",
    "plot_histogram(results)"
   ]
  },
  {
   "cell_type": "markdown",
   "metadata": {},
   "source": [
    "As we can see, the 'perfect' nature of the simulator is reflected again in getting all 0s for the initial state, and a distribution very close to uniform after applying the Hadamard gate. In a longer circuit on real quantum hardware, these statistics would be heavily affected by noise."
   ]
  },
  {
   "cell_type": "markdown",
   "metadata": {},
   "source": [
    "Finally, we can terminate the qvm and quilc servers:"
   ]
  },
  {
   "cell_type": "code",
   "execution_count": null,
   "metadata": {
    "ExecuteTime": {
     "end_time": "2019-01-29T20:21:14.917070Z",
     "start_time": "2019-01-29T20:21:14.914405Z"
    }
   },
   "outputs": [],
   "source": [
    "qvm_server.terminate()\n",
    "quilc_server.terminate()"
   ]
  }
 ],
 "metadata": {
  "kernelspec": {
   "display_name": "Python 3",
   "language": "python",
   "name": "python3"
  },
  "language_info": {
   "codemirror_mode": {
    "name": "ipython",
    "version": 3
   },
   "file_extension": ".py",
   "mimetype": "text/x-python",
   "name": "python",
   "nbconvert_exporter": "python",
   "pygments_lexer": "ipython3",
   "version": "3.7.3"
  },
  "varInspector": {
   "cols": {
    "lenName": 16,
    "lenType": 16,
    "lenVar": 40
   },
   "kernels_config": {
    "python": {
     "delete_cmd_postfix": "",
     "delete_cmd_prefix": "del ",
     "library": "var_list.py",
     "varRefreshCmd": "print(var_dic_list())"
    },
    "r": {
     "delete_cmd_postfix": ") ",
     "delete_cmd_prefix": "rm(",
     "library": "var_list.r",
     "varRefreshCmd": "cat(var_dic_list()) "
    }
   },
   "types_to_exclude": [
    "module",
    "function",
    "builtin_function_or_method",
    "instance",
    "_Feature"
   ],
   "window_display": false
  }
 },
 "nbformat": 4,
 "nbformat_minor": 2
}
