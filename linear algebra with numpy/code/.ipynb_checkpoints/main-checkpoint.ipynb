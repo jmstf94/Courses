{
 "cells": [
  {
   "cell_type": "markdown",
   "id": "9c02c4d8",
   "metadata": {},
   "source": [
    "# Διανύσματα, Πίνακες και Βασικές Πράξεις"
   ]
  },
  {
   "cell_type": "code",
   "execution_count": 1,
   "id": "453deac5",
   "metadata": {},
   "outputs": [],
   "source": [
    "import numpy as np"
   ]
  },
  {
   "cell_type": "code",
   "execution_count": 2,
   "id": "7043ca15",
   "metadata": {},
   "outputs": [
    {
     "name": "stdout",
     "output_type": "stream",
     "text": [
      "[[1 0 1]\n",
      " [2 1 0]\n",
      " [3 1 0]\n",
      " [0 4 5]]\n"
     ]
    }
   ],
   "source": [
    "#####create the array#####\n",
    "A = np.array([[1,0,1],[2,1,0],[3,1,0],[0,4,5]])\n",
    "#####display the array#####\n",
    "print(A)"
   ]
  },
  {
   "cell_type": "code",
   "execution_count": 3,
   "id": "1a083c8f",
   "metadata": {},
   "outputs": [
    {
     "name": "stdout",
     "output_type": "stream",
     "text": [
      "int32\n",
      "(4, 3)\n"
     ]
    }
   ],
   "source": [
    "######type of data#######\n",
    "print(A.dtype)\n",
    "########shape#########\n",
    "print(A.shape)"
   ]
  },
  {
   "cell_type": "code",
   "execution_count": 4,
   "id": "4b1b5a91",
   "metadata": {},
   "outputs": [
    {
     "name": "stdout",
     "output_type": "stream",
     "text": [
      "[[1 2 3 0]\n",
      " [0 1 1 4]\n",
      " [1 0 0 5]]\n",
      "(3, 4)\n"
     ]
    }
   ],
   "source": [
    "######transpose#######\n",
    "print(A.T)\n",
    "#######shape########\n",
    "print(A.T.shape)"
   ]
  },
  {
   "cell_type": "code",
   "execution_count": 5,
   "id": "4eafcbd4",
   "metadata": {},
   "outputs": [
    {
     "name": "stdout",
     "output_type": "stream",
     "text": [
      "[[0 0 0]\n",
      " [0 2 0]\n",
      " [0 0 3]\n",
      " [0 0 4]]\n"
     ]
    }
   ],
   "source": [
    "#######define A and B#######\n",
    "A=np.array([[4,2,2],[3,5,6],[2,2,3],[8,10,9]])\n",
    "B=np.array([[2,2,2],[1,3,1],[2,1,10],[4,5,5]])\n",
    "#####display elementwise modulo########\n",
    "print(A%B)"
   ]
  },
  {
   "cell_type": "code",
   "execution_count": 12,
   "id": "9133b3ad",
   "metadata": {},
   "outputs": [
    {
     "name": "stdout",
     "output_type": "stream",
     "text": [
      "[[ 16  12  30  36]\n",
      " [ 28  24  71  67]\n",
      " [ 14  11  36  33]\n",
      " [ 54  47 116 127]]\n"
     ]
    }
   ],
   "source": [
    "#######define A and B#######\n",
    "A=np.array([[4,2,2],[3,5,6],[2,2,3],[8,10,9]])\n",
    "B=np.array([[2,2,2],[1,3,1],[2,1,10],[4,5,5]]).T\n",
    "###calculate matrix product###\n",
    "print(np.matmul(A,B))"
   ]
  },
  {
   "cell_type": "code",
   "execution_count": 40,
   "id": "2fd61a96",
   "metadata": {},
   "outputs": [
    {
     "name": "stdout",
     "output_type": "stream",
     "text": [
      "True\n",
      "4\n",
      "(3,)\n"
     ]
    }
   ],
   "source": [
    "######define two vectors##########\n",
    "x = np.array([1,2,1])\n",
    "y = np.array([3,0,1])\n",
    "####do we get the same result?####\n",
    "print(np.dot(y,x)==np.dot(x,y))\n",
    "######what is that result?########\n",
    "print(np.dot(x,y))"
   ]
  },
  {
   "cell_type": "code",
   "execution_count": 48,
   "id": "efc4b4b8",
   "metadata": {},
   "outputs": [
    {
     "name": "stdout",
     "output_type": "stream",
     "text": [
      "[1 2 1]\n",
      "[1 2 1]\n"
     ]
    }
   ],
   "source": [
    "x = np.array([1,2,1])\n",
    "print(x.T)\n",
    "y = np.array([[3],[0],[1]])\n",
    "print(x)\n",
    "# print(x.shape)\n",
    "# print(y)\n",
    "# print(y.shape)"
   ]
  },
  {
   "cell_type": "markdown",
   "id": "3033ea62",
   "metadata": {},
   "source": [
    "# Επίλυση γραμμικού συστήματος"
   ]
  },
  {
   "cell_type": "code",
   "execution_count": 4,
   "id": "53df47e7",
   "metadata": {},
   "outputs": [
    {
     "name": "stdout",
     "output_type": "stream",
     "text": [
      "[0. 1.]\n"
     ]
    }
   ],
   "source": [
    "from numpy.linalg import solve\n",
    "import numpy as np\n",
    "######define the system#######\n",
    "A = np.array([[2,1],[3,1]])\n",
    "b = np.array([1,1])\n",
    "####print the variable vector#####\n",
    "print(solve(A,b))"
   ]
  },
  {
   "cell_type": "code",
   "execution_count": 6,
   "id": "251e9c02",
   "metadata": {},
   "outputs": [
    {
     "name": "stdout",
     "output_type": "stream",
     "text": [
      "[1.11022302e-16 1.00000000e+00]\n"
     ]
    }
   ],
   "source": [
    "from numpy.linalg import inv\n",
    "from numpy import matmul\n",
    "######define the system#######\n",
    "A = np.array([[2,1],[3,1]])\n",
    "b = np.array([1,1])\n",
    "####calculate solution vector x#####\n",
    "x = matmul(inv(A),b)\n",
    "print(x)"
   ]
  },
  {
   "cell_type": "code",
   "execution_count": 9,
   "id": "5a252611",
   "metadata": {},
   "outputs": [
    {
     "name": "stdout",
     "output_type": "stream",
     "text": [
      "[0. 1.]\n"
     ]
    }
   ],
   "source": [
    "####round to fifth decimal#####\n",
    "print(x.round(5))"
   ]
  },
  {
   "cell_type": "code",
   "execution_count": 11,
   "id": "31f1353f",
   "metadata": {},
   "outputs": [
    {
     "name": "stdout",
     "output_type": "stream",
     "text": [
      "-1.0000000000000002\n"
     ]
    }
   ],
   "source": [
    "from numpy.linalg import det\n",
    "A = np.array([[2,1],[3,1]])\n",
    "print(det(A))"
   ]
  },
  {
   "cell_type": "code",
   "execution_count": 1,
   "id": "95ccd3a9",
   "metadata": {},
   "outputs": [
    {
     "name": "stdout",
     "output_type": "stream",
     "text": [
      "[[ 1  2 -3  7]\n",
      " [ 3 -1  4  6]\n",
      " [-2  1  1  1]]\n"
     ]
    }
   ],
   "source": [
    "import numpy as np\n",
    "\n",
    "######define the system######\n",
    "A = np.array([[1,2,-3],[3,-1,4],[-2,1,1]])\n",
    "b = np.array([[7,6,1]])\n",
    "######define the augmented matrix#######\n",
    "augmat = np.concatenate((A,b.T),axis=1)\n",
    "print(augmat)"
   ]
  },
  {
   "cell_type": "code",
   "execution_count": 2,
   "id": "3d1decc1",
   "metadata": {},
   "outputs": [],
   "source": [
    "#####pickUpfunction######\n",
    "def pick_up(the_array,get_row,give_row):\n",
    "    the_row = the_array[get_row]\n",
    "    to_return = np.zeros(the_array.shape)\n",
    "    for x in range(len(the_row)):\n",
    "        to_return[give_row,x] = the_row[x]\n",
    "    return to_return"
   ]
  },
  {
   "cell_type": "code",
   "execution_count": 3,
   "id": "d3131c75",
   "metadata": {},
   "outputs": [
    {
     "name": "stdout",
     "output_type": "stream",
     "text": [
      "[[  1.   2.  -3.   7.]\n",
      " [  0.  -7.  13. -15.]\n",
      " [ -2.   1.   1.   1.]]\n",
      "[[  1.   2.  -3.   7.]\n",
      " [  0.  -7.  13. -15.]\n",
      " [  0.   5.  -5.  15.]]\n",
      "[[  1.           2.          -3.           7.        ]\n",
      " [  0.          -7.          13.         -15.        ]\n",
      " [  0.           0.           4.28571429   4.28571429]]\n"
     ]
    }
   ],
   "source": [
    "#####start the algorithm manually#####\n",
    "i=0\n",
    "j=1\n",
    "ratio = augmat[j,i]/augmat[i,i]\n",
    "augmat = augmat - ratio*pick_up(augmat,i,j)\n",
    "print(augmat)\n",
    "\n",
    "i=0\n",
    "j=2\n",
    "ratio = augmat[j,i]/augmat[i,i]\n",
    "augmat = augmat - ratio*pick_up(augmat,i,j)\n",
    "print(augmat)\n",
    "\n",
    "i=1\n",
    "j=2\n",
    "ratio = augmat[j,i]/augmat[i,i]\n",
    "augmat = augmat - ratio*pick_up(augmat,i,j)\n",
    "print(augmat)"
   ]
  },
  {
   "cell_type": "code",
   "execution_count": 4,
   "id": "b0f90dd0",
   "metadata": {},
   "outputs": [
    {
     "name": "stdout",
     "output_type": "stream",
     "text": [
      "1.9999999999999996 4.000000000000001 1.0000000000000004\n"
     ]
    }
   ],
   "source": [
    "#####now substitute accordingly#######\n",
    "x_3 = augmat[2,2]/augmat[2,3]\n",
    "\n",
    "i = 1\n",
    "x_2 = augmat[i,3]\n",
    "j = 2\n",
    "x_2 = x_2 - augmat[i,j]*x_3\n",
    "x_2 = x_2/augmat[i,i]\n",
    "\n",
    "i = 0\n",
    "x_1 = augmat[i,3]\n",
    "j = 1\n",
    "x_1 = x_1 - augmat[i,j]*x_2\n",
    "j = 2\n",
    "x_1 = x_1 - augmat[i,j]*x_3\n",
    "x_1 = x_1/augmat[i,i]\n",
    "\n",
    "print(x_1,x_2,x_3)"
   ]
  },
  {
   "cell_type": "code",
   "execution_count": 5,
   "id": "a0b63dcd",
   "metadata": {},
   "outputs": [
    {
     "name": "stdout",
     "output_type": "stream",
     "text": [
      "[2. 4. 1.]\n"
     ]
    }
   ],
   "source": [
    "print(np.linalg.solve(A,b[0]))"
   ]
  },
  {
   "cell_type": "markdown",
   "id": "94f1c0d7",
   "metadata": {},
   "source": [
    "# jordan"
   ]
  },
  {
   "cell_type": "code",
   "execution_count": 14,
   "id": "d58e96f8",
   "metadata": {},
   "outputs": [
    {
     "name": "stdout",
     "output_type": "stream",
     "text": [
      "First iteration: [ 7. -6.  1.]\n",
      "Second iteration: [22. 19. 21.]\n",
      "Second iteration: [ 32. 144.  26.]\n",
      "Fourth iteration: [-203.  194.  -79.]\n",
      "Fifth iteration: [-618. -931. -599.]\n",
      "Sixth iteration: [   72. -4256.  -304.]\n",
      "Sixth iteration: [ 7607. -1006.  4401.]\n"
     ]
    }
   ],
   "source": [
    "import numpy as np\n",
    "#######divergent example#########\n",
    "######define the system######\n",
    "A = np.array([[1,2,-3],[3,-1,4],[-2,1,1]])\n",
    "b = np.array([7,6,1])\n",
    "\n",
    "######we start fromm the zeroth vector######\n",
    "x_1 = np.array([b[0]/A[0,0],b[1]/A[1,1],b[2]/A[2,2]])\n",
    "print(f\"First iteration: {x_1}\")\n",
    "\n",
    "x_2 = np.array([(1/A[0,0])*(b[0]-A[0,1]*x_1[1]-A[0,2]*x_1[2]),(1/A[1,1])*(b[1]-A[1,0]*x_1[0]-A[1,2]*x_1[2]),(1/A[2,2])*(b[2]-A[2,0]*x_1[0]-A[2,1]*x_1[1])])\n",
    "print(f\"Second iteration: {x_2}\")\n",
    "\n",
    "x_3 = np.array([(1/A[0,0])*(b[0]-A[0,1]*x_2[1]-A[0,2]*x_2[2]),(1/A[1,1])*(b[1]-A[1,0]*x_2[0]-A[1,2]*x_2[2]),(1/A[2,2])*(b[2]-A[2,0]*x_2[0]-A[2,1]*x_2[1])])\n",
    "print(f\"Second iteration: {x_3}\")\n",
    "\n",
    "x_4 = np.array([(1/A[0,0])*(b[0]-A[0,1]*x_3[1]-A[0,2]*x_3[2]),(1/A[1,1])*(b[1]-A[1,0]*x_3[0]-A[1,2]*x_3[2]),(1/A[2,2])*(b[2]-A[2,0]*x_3[0]-A[2,1]*x_3[1])])\n",
    "print(f\"Fourth iteration: {x_4}\")\n",
    "\n",
    "x_5 = np.array([(1/A[0,0])*(b[0]-A[0,1]*x_4[1]-A[0,2]*x_4[2]),(1/A[1,1])*(b[1]-A[1,0]*x_4[0]-A[1,2]*x_4[2]),(1/A[2,2])*(b[2]-A[2,0]*x_4[0]-A[2,1]*x_4[1])])\n",
    "print(f\"Fifth iteration: {x_5}\")\n",
    "\n",
    "x_6 = np.array([(1/A[0,0])*(b[0]-A[0,1]*x_5[1]-A[0,2]*x_5[2]),(1/A[1,1])*(b[1]-A[1,0]*x_5[0]-A[1,2]*x_5[2]),(1/A[2,2])*(b[2]-A[2,0]*x_5[0]-A[2,1]*x_5[1])])\n",
    "print(f\"Sixth iteration: {x_6}\")\n",
    "\n",
    "x_7 = np.array([(1/A[0,0])*(b[0]-A[0,1]*x_6[1]-A[0,2]*x_6[2]),(1/A[1,1])*(b[1]-A[1,0]*x_6[0]-A[1,2]*x_6[2]),(1/A[2,2])*(b[2]-A[2,0]*x_6[0]-A[2,1]*x_6[1])])\n",
    "print(f\"Sixth iteration: {x_7}\")\n"
   ]
  },
  {
   "cell_type": "code",
   "execution_count": 15,
   "id": "64887c35",
   "metadata": {},
   "outputs": [
    {
     "name": "stdout",
     "output_type": "stream",
     "text": [
      "First iteration: [ 7. -6.  1.]\n",
      "Second iteration: [22. 19. 21.]\n",
      "Second iteration: [ 32. 144.  26.]\n",
      "Fourth iteration: [-203.  194.  -79.]\n",
      "Fifth iteration: [-618. -931. -599.]\n",
      "Sixth iteration: [   72. -4256.  -304.]\n",
      "Sixth iteration: [ 7607. -1006.  4401.]\n"
     ]
    }
   ],
   "source": [
    "import numpy as np\n",
    "#######divergent example#########\n",
    "######define the system######\n",
    "A = np.array([[1,2,-3],[3,-1,4],[-2,1,1]])\n",
    "b = np.array([7,6,1])\n",
    "\n",
    "######we start fromm the zeroth vector######\n",
    "x_1 = np.array([b[0]/A[0,0],b[1]/A[1,1],b[2]/A[2,2]])\n",
    "print(f\"First iteration: {x_1}\")\n",
    "\n",
    "x_2 = np.array([(1/A[0,0])*(b[0]-A[0,1]*x_1[1]-A[0,2]*x_1[2]),(1/A[1,1])*(b[1]-A[1,0]*x_1[0]-A[1,2]*x_1[2]),(1/A[2,2])*(b[2]-A[2,0]*x_1[0]-A[2,1]*x_1[1])])\n",
    "print(f\"Second iteration: {x_2}\")\n",
    "\n",
    "x_3 = np.array([(1/A[0,0])*(b[0]-A[0,1]*x_2[1]-A[0,2]*x_2[2]),(1/A[1,1])*(b[1]-A[1,0]*x_2[0]-A[1,2]*x_2[2]),(1/A[2,2])*(b[2]-A[2,0]*x_2[0]-A[2,1]*x_2[1])])\n",
    "print(f\"Second iteration: {x_3}\")\n",
    "\n",
    "x_4 = np.array([(1/A[0,0])*(b[0]-A[0,1]*x_3[1]-A[0,2]*x_3[2]),(1/A[1,1])*(b[1]-A[1,0]*x_3[0]-A[1,2]*x_3[2]),(1/A[2,2])*(b[2]-A[2,0]*x_3[0]-A[2,1]*x_3[1])])\n",
    "print(f\"Fourth iteration: {x_4}\")\n",
    "\n",
    "x_5 = np.array([(1/A[0,0])*(b[0]-A[0,1]*x_4[1]-A[0,2]*x_4[2]),(1/A[1,1])*(b[1]-A[1,0]*x_4[0]-A[1,2]*x_4[2]),(1/A[2,2])*(b[2]-A[2,0]*x_4[0]-A[2,1]*x_4[1])])\n",
    "print(f\"Fifth iteration: {x_5}\")\n",
    "\n",
    "x_6 = np.array([(1/A[0,0])*(b[0]-A[0,1]*x_5[1]-A[0,2]*x_5[2]),(1/A[1,1])*(b[1]-A[1,0]*x_5[0]-A[1,2]*x_5[2]),(1/A[2,2])*(b[2]-A[2,0]*x_5[0]-A[2,1]*x_5[1])])\n",
    "print(f\"Sixth iteration: {x_6}\")\n",
    "\n",
    "x_7 = np.array([(1/A[0,0])*(b[0]-A[0,1]*x_6[1]-A[0,2]*x_6[2]),(1/A[1,1])*(b[1]-A[1,0]*x_6[0]-A[1,2]*x_6[2]),(1/A[2,2])*(b[2]-A[2,0]*x_6[0]-A[2,1]*x_6[1])])\n",
    "print(f\"Sixth iteration: {x_7}\")"
   ]
  },
  {
   "cell_type": "code",
   "execution_count": 18,
   "id": "3e4b7a11",
   "metadata": {},
   "outputs": [
    {
     "name": "stdout",
     "output_type": "stream",
     "text": [
      "First iteration: [-0.2         0.22222222 -0.42857143]\n",
      "Second iteration: [ 0.14603175  0.2031746  -0.51746032]\n",
      "Second iteration: [ 0.19174603  0.32839506 -0.41587302]\n",
      "Fourth iteration: [ 0.18088183  0.33234568 -0.42070043]\n",
      "Fifth iteration: [ 0.18535853  0.32926066 -0.42436886]\n",
      "Sixth iteration: [ 0.18632558  0.33116049 -0.42264909]\n",
      "Sixth iteration: [ 0.18605365  0.33129176 -0.42264419]\n"
     ]
    }
   ],
   "source": [
    "#######convergent example#########\n",
    "######define the system######\n",
    "A = np.array([[5,-2,3],[-3,9,1],[2,-1,-7]])\n",
    "b = np.array([-1,2,3])\n",
    "\n",
    "######we start fromm the zeroth vector######\n",
    "x_1 = np.array([b[0]/A[0,0],b[1]/A[1,1],b[2]/A[2,2]])\n",
    "print(f\"First iteration: {x_1}\")\n",
    "\n",
    "x_2 = np.array([(1/A[0,0])*(b[0]-A[0,1]*x_1[1]-A[0,2]*x_1[2]),(1/A[1,1])*(b[1]-A[1,0]*x_1[0]-A[1,2]*x_1[2]),(1/A[2,2])*(b[2]-A[2,0]*x_1[0]-A[2,1]*x_1[1])])\n",
    "print(f\"Second iteration: {x_2}\")\n",
    "\n",
    "x_3 = np.array([(1/A[0,0])*(b[0]-A[0,1]*x_2[1]-A[0,2]*x_2[2]),(1/A[1,1])*(b[1]-A[1,0]*x_2[0]-A[1,2]*x_2[2]),(1/A[2,2])*(b[2]-A[2,0]*x_2[0]-A[2,1]*x_2[1])])\n",
    "print(f\"Second iteration: {x_3}\")\n",
    "\n",
    "x_4 = np.array([(1/A[0,0])*(b[0]-A[0,1]*x_3[1]-A[0,2]*x_3[2]),(1/A[1,1])*(b[1]-A[1,0]*x_3[0]-A[1,2]*x_3[2]),(1/A[2,2])*(b[2]-A[2,0]*x_3[0]-A[2,1]*x_3[1])])\n",
    "print(f\"Fourth iteration: {x_4}\")\n",
    "\n",
    "x_5 = np.array([(1/A[0,0])*(b[0]-A[0,1]*x_4[1]-A[0,2]*x_4[2]),(1/A[1,1])*(b[1]-A[1,0]*x_4[0]-A[1,2]*x_4[2]),(1/A[2,2])*(b[2]-A[2,0]*x_4[0]-A[2,1]*x_4[1])])\n",
    "print(f\"Fifth iteration: {x_5}\")\n",
    "\n",
    "x_6 = np.array([(1/A[0,0])*(b[0]-A[0,1]*x_5[1]-A[0,2]*x_5[2]),(1/A[1,1])*(b[1]-A[1,0]*x_5[0]-A[1,2]*x_5[2]),(1/A[2,2])*(b[2]-A[2,0]*x_5[0]-A[2,1]*x_5[1])])\n",
    "print(f\"Sixth iteration: {x_6}\")\n",
    "\n",
    "x_7 = np.array([(1/A[0,0])*(b[0]-A[0,1]*x_6[1]-A[0,2]*x_6[2]),(1/A[1,1])*(b[1]-A[1,0]*x_6[0]-A[1,2]*x_6[2]),(1/A[2,2])*(b[2]-A[2,0]*x_6[0]-A[2,1]*x_6[1])])\n",
    "print(f\"Sixth iteration: {x_7}\")"
   ]
  },
  {
   "cell_type": "code",
   "execution_count": 1,
   "id": "a5d71d46",
   "metadata": {},
   "outputs": [
    {
     "name": "stdout",
     "output_type": "stream",
     "text": [
      "The eigenvalues:[ 1.61168440e+01 -1.11684397e+00 -3.38433605e-16]\n",
      "The corresponding eigenvectors:\n",
      "[[-0.23197069 -0.52532209 -0.8186735 ]\n",
      " [-0.78583024 -0.08675134  0.61232756]\n",
      " [ 0.40824829 -0.81649658  0.40824829]]\n"
     ]
    }
   ],
   "source": [
    "import numpy as np\n",
    "import numpy.linalg as lin\n",
    "\n",
    "# define example matrix\n",
    "A = np.array([\n",
    "[1, 2, 3],\n",
    "[4, 5, 6],\n",
    "[7, 8, 9]])\n",
    "\n",
    "# factorize\n",
    "###calculate eigenvalues and the corresponding eigenvectors###\n",
    "values, vectors = lin.eig(A)\n",
    "\n",
    "######we create the \n",
    "P = vectors.T\n",
    "D = np.diag(values)\n",
    "\n",
    "print(f'The eigenvalues per column:{values}')\n",
    "print(f'The corresponding eigenvectors:\\n{P}')"
   ]
  },
  {
   "cell_type": "code",
   "execution_count": 2,
   "id": "7aba67e2",
   "metadata": {},
   "outputs": [
    {
     "name": "stdout",
     "output_type": "stream",
     "text": [
      "[[1. 4. 7.]\n",
      " [2. 5. 8.]\n",
      " [3. 6. 9.]]\n"
     ]
    }
   ],
   "source": [
    "print(lin.inv(P)@D@P)"
   ]
  },
  {
   "cell_type": "markdown",
   "id": "4802af54",
   "metadata": {},
   "source": [
    "# LU"
   ]
  },
  {
   "cell_type": "code",
   "execution_count": 3,
   "id": "0ab894b7",
   "metadata": {},
   "outputs": [
    {
     "name": "stdout",
     "output_type": "stream",
     "text": [
      "[[0. 1. 0.]\n",
      " [0. 0. 1.]\n",
      " [1. 0. 0.]]\n",
      "[[1.         0.         0.        ]\n",
      " [0.14285714 1.         0.        ]\n",
      " [0.57142857 0.5        1.        ]]\n",
      "[[ 7.00000000e+00  8.00000000e+00  9.00000000e+00]\n",
      " [ 0.00000000e+00  8.57142857e-01  1.71428571e+00]\n",
      " [ 0.00000000e+00  0.00000000e+00 -1.58603289e-16]]\n",
      "[[1. 2. 3.]\n",
      " [4. 5. 6.]\n",
      " [7. 8. 9.]]\n"
     ]
    }
   ],
   "source": [
    "from numpy import array\n",
    "from scipy.linalg import lu\n",
    "\n",
    "# define a square matrix\n",
    "A = array([\n",
    "[1, 2, 3],\n",
    "[4, 5, 6],\n",
    "[7, 8, 9]])\n",
    "\n",
    "# factorize\n",
    "P, L, U = lu(A)\n",
    "print(P)\n",
    "print(L)\n",
    "print(U)\n",
    "\n",
    "# reconstruct\n",
    "print(P@L@U)"
   ]
  },
  {
   "cell_type": "code",
   "execution_count": 32,
   "id": "5e74e526",
   "metadata": {},
   "outputs": [
    {
     "name": "stdout",
     "output_type": "stream",
     "text": [
      "[[ 0.70710678 -0.70710678]\n",
      " [ 0.70710678  0.70710678]]\n",
      "[[5. 0. 0.]\n",
      " [0. 3. 0.]]\n",
      "[[ 7.07106781e-01  7.07106781e-01  3.67439059e-16]\n",
      " [-2.35702260e-01  2.35702260e-01 -9.42809042e-01]\n",
      " [-6.66666667e-01  6.66666667e-01  3.33333333e-01]]\n",
      "[[ 3.  2.  2.]\n",
      " [ 2.  3. -2.]]\n"
     ]
    }
   ],
   "source": [
    "import numpy as np\n",
    "import numpy.linalg as lin\n",
    "\n",
    "# define matrix\n",
    "M = np.array([[3,2,2],[2,3,-2]])\n",
    "m , n = M.shape\n",
    "\n",
    "# use automated svd\n",
    "U, s, V = lin.svd(M)\n",
    "\n",
    "# create sigma matrix\n",
    "Sigma = np.zeros((m,n))\n",
    "for i in range(np.min([m,n])):\n",
    "    Sigma[i,i] = s[i]\n",
    "\n",
    "# print components - V is already transposed\n",
    "print(U)\n",
    "print(Sigma)\n",
    "print(V)\n",
    "\n",
    "# check result\n",
    "print(U@Sigma@V)"
   ]
  },
  {
   "cell_type": "code",
   "execution_count": 43,
   "id": "852b6c38",
   "metadata": {},
   "outputs": [
    {
     "name": "stdout",
     "output_type": "stream",
     "text": [
      "[[1.73205081 0.         0.        ]\n",
      " [1.15470054 1.29099445 0.        ]\n",
      " [1.15470054 0.51639778 0.63245553]]\n",
      "[[3. 2. 2.]\n",
      " [2. 3. 2.]\n",
      " [2. 2. 2.]]\n"
     ]
    }
   ],
   "source": [
    "# cholesky\n",
    "import numpy.linalg as lin\n",
    "\n",
    "# hermitian positive semi definite matrix\n",
    "M = np.array([[3,2,2],[2,3,2],[2,2,2]])\n",
    "L = lin.cholesky(M)\n",
    "print(L)\n",
    "\n",
    "# check\n",
    "print(L@L.T)"
   ]
  },
  {
   "cell_type": "markdown",
   "id": "2735ca10",
   "metadata": {},
   "source": [
    "# Least Square"
   ]
  },
  {
   "cell_type": "code",
   "execution_count": 6,
   "id": "f7ad5324",
   "metadata": {},
   "outputs": [
    {
     "data": {
      "text/plain": [
       "(1.0, -0.95)"
      ]
     },
     "execution_count": 6,
     "metadata": {},
     "output_type": "execute_result"
    }
   ],
   "source": [
    "import numpy.linalg as lin\n",
    "import numpy as np\n",
    "\n",
    "# data\n",
    "x = np.array([0, 1, 2, 3])\n",
    "y = np.array([-1, 0.2, 0.9, 2.1])\n",
    "\n",
    "# we rewrite the equation as y=Ap where A=[[x 1]],p=[[m],[c]]\n",
    "A = np.vstack([x, np.ones(len(x))]).T\n",
    "\n",
    "# we put it in the function\n",
    "m, c = lin.lstsq(A, y, rcond=None)[0]\n",
    "m = round(m,3)\n",
    "c = round(c,3)\n",
    "m,c"
   ]
  },
  {
   "cell_type": "code",
   "execution_count": 11,
   "id": "9593703b",
   "metadata": {},
   "outputs": [
    {
     "data": {
      "image/png": "[encoded data removed]",
      "text/plain": [
       "<Figure size 432x288 with 1 Axes>"
      ]
     },
     "metadata": {
      "needs_background": "light"
     },
     "output_type": "display_data"
    }
   ],
   "source": [
    "import matplotlib.pyplot as plt\n",
    "plt.plot(x, y, 'o', label='Original data', markersize=10)\n",
    "plt.plot(x, m*x + c, 'r', label='Fitted line')\n",
    "plt.legend()\n",
    "plt.savefig('../pdf/figures/lsplot.png')"
   ]
  },
  {
   "cell_type": "code",
   "execution_count": 3,
   "id": "b8104f8b",
   "metadata": {},
   "outputs": [
    {
     "name": "stdout",
     "output_type": "stream",
     "text": [
      "U = [[-0.31622777 -0.9486833 ]\n",
      " [-0.9486833   0.31622777]]\n",
      "\n",
      "Sigma = [[6.70820393 0.        ]\n",
      " [0.         0.4472136 ]]\n",
      "\n",
      "V = [[-0.31622777 -0.9486833 ]\n",
      " [-0.9486833   0.31622777]]\n"
     ]
    }
   ],
   "source": [
    "import numpy as np\n",
    "import numpy.linalg as lin\n",
    "\n",
    "# define matrix\n",
    "M = np.array([[1.8,1.2],[4.4,4.6]])\n",
    "m,n = M.shape\n",
    "\n",
    "# use automated svd\n",
    "U, s, V = lin.svd(M)\n",
    "\n",
    "# create sigma matrix\n",
    "Sigma = np.zeros((m,n))\n",
    "for i in range(np.min([m,n])):\n",
    "    Sigma[i,i] = s[i]\n",
    "\n",
    "# print components - V is already transposed\n",
    "print(f\"U = {U}\\n\")\n",
    "print(f\"Sigma = {Sigma}\\n\")\n",
    "print(f\"V = {V}\")"
   ]
  },
  {
   "cell_type": "code",
   "execution_count": 7,
   "id": "9b4b4455",
   "metadata": {},
   "outputs": [
    {
     "name": "stdout",
     "output_type": "stream",
     "text": [
      "[[1.8 1.2]\n",
      " [4.4 4.6]]\n"
     ]
    }
   ],
   "source": [
    "# choose just the first approximation\n",
    "# to do that we just : sigma[1,1]=0\n",
    "Sigma[1,1]=0\n",
    "\n",
    "M_approximate = U@Sigma@V\n",
    "# M_approximate has rank one thus we don't have to store all the elements of M\n",
    "# we just need to store [[1],[3]] and [1.5 1.5] then matmulthem\n",
    "print(M)"
   ]
  },
  {
   "cell_type": "code",
   "execution_count": null,
   "id": "5806b1c2",
   "metadata": {},
   "outputs": [],
   "source": []
  }
 ],
 "metadata": {
  "kernelspec": {
   "display_name": "Python 3",
   "language": "python",
   "name": "python3"
  },
  "language_info": {
   "codemirror_mode": {
    "name": "ipython",
    "version": 3
   },
   "file_extension": ".py",
   "mimetype": "text/x-python",
   "name": "python",
   "nbconvert_exporter": "python",
   "pygments_lexer": "ipython3",
   "version": "3.8.8"
  }
 },
 "nbformat": 4,
 "nbformat_minor": 5
}
