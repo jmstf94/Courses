{
 "cells": [
  {
   "cell_type": "code",
   "execution_count": 15,
   "id": "453deac5",
   "metadata": {},
   "outputs": [],
   "source": [
    "import numpy as np\n"
   ]
  },
  {
   "cell_type": "code",
   "execution_count": 13,
   "id": "7043ca15",
   "metadata": {},
   "outputs": [
    {
     "data": {
      "text/plain": [
       "array([[1, 0, 1],\n",
       "       [4, 1, 0],\n",
       "       [9, 1, 0]])"
      ]
     },
     "execution_count": 13,
     "metadata": {},
     "output_type": "execute_result"
    }
   ],
   "source": [
    "####vectors and matrices#####\n",
    "x = np.array([[0],[1],[2]])\n",
    "x.T\n",
    "A = np.array([[1,0,1],[2,1,0],[3,1,0]])"
   ]
  },
  {
   "cell_type": "code",
   "execution_count": 26,
   "id": "5823b30f",
   "metadata": {},
   "outputs": [],
   "source": [
    "##########main operations###########\n",
    "\n",
    "# addition is element wise\n",
    "x = np.array([[0],[1],[2]])\n",
    "y = np.array([[1],[3],[0]])\n",
    "A = np.array([[1,0,1],[2,1,0],[3,1,0]])\n",
    "B = np.array([[2,0,1],[4,1,0],[0,1,0]])\n"
   ]
  },
  {
   "cell_type": "code",
   "execution_count": 41,
   "id": "f71383e2",
   "metadata": {},
   "outputs": [
    {
     "name": "stdout",
     "output_type": "stream",
     "text": [
      "[[0]\n",
      " [1]\n",
      " [2]]\n",
      "[[1 3 0]]\n",
      "[[1 3 0]\n",
      " [2 4 1]\n",
      " [3 5 2]]\n",
      "[[1 3 0]\n",
      " [2 4 1]\n",
      " [3 5 2]]\n"
     ]
    }
   ],
   "source": [
    "# +-are element wise operations\n",
    "print(x)\n",
    "print(y.T)\n",
    "print(x+y.T)\n",
    "print(y.T+x)"
   ]
  },
  {
   "cell_type": "code",
   "execution_count": null,
   "id": "b40339cb",
   "metadata": {},
   "outputs": [],
   "source": []
  }
 ],
 "metadata": {
  "kernelspec": {
   "display_name": "Python 3",
   "language": "python",
   "name": "python3"
  },
  "language_info": {
   "codemirror_mode": {
    "name": "ipython",
    "version": 3
   },
   "file_extension": ".py",
   "mimetype": "text/x-python",
   "name": "python",
   "nbconvert_exporter": "python",
   "pygments_lexer": "ipython3",
   "version": "3.8.8"
  }
 },
 "nbformat": 4,
 "nbformat_minor": 5
}
